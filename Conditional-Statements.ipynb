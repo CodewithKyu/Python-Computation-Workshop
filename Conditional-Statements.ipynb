{
 "cells": [
  {
   "cell_type": "markdown",
   "id": "5bb47f88-1510-4360-bd1c-65be248d74a7",
   "metadata": {},
   "source": [
    "# Conditional Expression\n",
    "Just like in daily life where we make choices based on situations, programming needs to make smart decisions too!\n",
    "\n",
    "#### REAL-LIFE DECISION MAKING:\n",
    "\n",
    "* If it's raining, I'll take an umbrella.\n",
    "* If my friends are free, we'll go to the movies.\n",
    "* If I finish my homework early, I can play video games.\n",
    "\n",
    "All these everyday choices depend on certain conditions being true. In programming, we call this \"Conditional Logic\" - where our code can think and make decisions like we do!"
   ]
  },
  {
   "cell_type": "markdown",
   "id": "75e8f7b1-44e9-4b41-a116-b67320c99d36",
   "metadata": {},
   "source": [
    "#### Foodie Conditions:\n",
    "\n",
    "\n",
    "```python\n",
    "if day == \"Friday\":\n",
    "    order_biryani()\n",
    "    do_happy_dance()\n",
    "else:\n",
    "    cry_in_corner()\n",
    "    eat_salad_reluctantly()\n",
    "```"
   ]
  },
  {
   "cell_type": "markdown",
   "id": "ff12c198-94d1-4fe9-bb94-0b2d984d521c",
   "metadata": {},
   "source": [
    "#### Sleepy Time Logic:\n",
    "```python\n",
    "if alarm_rings and is_weekday:\n",
    "    hit_snooze() \n",
    "    hit_snooze_again()\n",
    "    finally_wake_up_grumpily()\n",
    "elif weekend and sun_is_shining:\n",
    "    continue_snoring()\n",
    "    drool_on_pillow()\n",
    "\n",
    "```"
   ]
  },
  {
   "cell_type": "markdown",
   "id": "63c72919-7d7c-4bd4-a801-3684aba20f97",
   "metadata": {},
   "source": [
    "#### Social Media Madness:\n",
    "\n",
    "```python\n",
    "if posted_selfie and likes < 100:\n",
    "    refresh_every_2_seconds()\n",
    "    question_life_choices()\n",
    "    consider_deleting_account()\n",
    "elif likes > 500:\n",
    "    feel_like_celebrity()\n",
    "    plan_next_selfie_angle()\n",
    "\n",
    "```\n"
   ]
  },
  {
   "cell_type": "markdown",
   "id": "68da8dd8-bc36-432b-89df-1edb39f24752",
   "metadata": {},
   "source": [
    "## IF ELSE and ELIF\n",
    "\n",
    "If else and elif statements are a multiway decision taken by our program based on certain conditions in our code.\n",
    "\n",
    "#### Syntax\n",
    "```python\n",
    "if (condition1): # if condition1 is True\n",
    "    print (\"yes\")\n",
    "elif(condition2): # if condition2 is True\n",
    "    print(\"no\")\n",
    "else: # otherwise\n",
    "    print(\"maybe\")\n",
    "\n",
    "```\n"
   ]
  },
  {
   "cell_type": "code",
   "execution_count": 16,
   "id": "7cdf391d-13c0-4371-a791-c30361bfcefb",
   "metadata": {},
   "outputs": [
    {
     "name": "stdin",
     "output_type": "stream",
     "text": [
      "Enter your total marks out of 100: \t  87\n"
     ]
    },
    {
     "name": "stdout",
     "output_type": "stream",
     "text": [
      "Congratulations! You are passed\n"
     ]
    }
   ],
   "source": [
    "# Example\n",
    "Marks = input(\"Enter your total marks out of 100: \\t \")\n",
    "Marks = int(Marks)\n",
    "if Marks>=50:\n",
    "    print(\"Congratulations! You are passed\")\n",
    "else:\n",
    "    print(\"Oooppp.... Failed\")"
   ]
  },
  {
   "cell_type": "code",
   "execution_count": 21,
   "id": "9c494283-9574-48eb-84fa-8b4db237fcd6",
   "metadata": {},
   "outputs": [
    {
     "name": "stdout",
     "output_type": "stream",
     "text": [
      "❌ NO BIRYANI TODAY\n",
      "   Eat regular hostel food\n",
      "   Wait for Friday!\n"
     ]
    }
   ],
   "source": [
    "# Simple Biryani Decision Maker\n",
    "day = \"Sunday\"\n",
    "with_friends = False\n",
    "\n",
    "if day == \"Friday\" and with_friends:\n",
    "    print(\"🎉 PARTY BIRYANI TIME!\")\n",
    "    print(\"   Order 2 kg Hyderabadi Biryani\")\n",
    "    print(\"   Get extra raita and salad\")\n",
    "    \n",
    "elif day == \"Friday\" and not with_friends:\n",
    "    print(\"😢 LONELY BIRYANI...\")\n",
    "    print(\"   Order 1 plate for yourself\")\n",
    "    print(\"   Eat while watching Netflix\")\n",
    "    \n",
    "else:\n",
    "    print(\"❌ NO BIRYANI TODAY\")\n",
    "    print(\"   Eat regular hostel food\")\n",
    "    print(\"   Wait for Friday!\")"
   ]
  },
  {
   "cell_type": "markdown",
   "id": "60df5d70-38c0-4a70-8e5b-3b238aa4c33b",
   "metadata": {},
   "source": [
    "### Logical Operators\n",
    "\n",
    "In python logical operators operate on conditional statements. \n",
    "For Example:\n",
    "* and – true if both operands are true else false.\n",
    "* or – true if at least one operand is true or else false.\n",
    "* not – inverts true to false & false to true."
   ]
  },
  {
   "cell_type": "code",
   "execution_count": null,
   "id": "a3291536-7ec8-491b-989b-c99f0f5a246d",
   "metadata": {},
   "outputs": [],
   "source": []
  }
 ],
 "metadata": {
  "kernelspec": {
   "display_name": "py311",
   "language": "python",
   "name": "py311"
  },
  "language_info": {
   "codemirror_mode": {
    "name": "ipython",
    "version": 3
   },
   "file_extension": ".py",
   "mimetype": "text/x-python",
   "name": "python",
   "nbconvert_exporter": "python",
   "pygments_lexer": "ipython3",
   "version": "3.11.9"
  }
 },
 "nbformat": 4,
 "nbformat_minor": 5
}
