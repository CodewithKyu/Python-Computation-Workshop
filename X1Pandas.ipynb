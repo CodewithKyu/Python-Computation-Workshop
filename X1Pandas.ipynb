{
 "cells": [
  {
   "cell_type": "markdown",
   "id": "d0daf83c-88af-4f81-9841-ecda99b0c2f4",
   "metadata": {},
   "source": [
    "# Pandas"
   ]
  },
  {
   "cell_type": "markdown",
   "id": "d27cf6be-3561-44ab-8f1d-bd69d2182a5c",
   "metadata": {},
   "source": [
    "## Introduction\n",
    "\n",
    "* Pandas is a Python library used for working with data sets.\n",
    "* It has functions for analyzing, cleaning, exploring, and manipulating data.\n",
    "* \"Pandas\" was created by Wes McKinney in 2008.\n",
    "* It refers both \"Panel Data\", and \"Python Data Analysis\".\n",
    "\n",
    "\n",
    "## Installation\n",
    "```python \n",
    "pip install python\n",
    "```\n",
    "\n",
    "## Import\n",
    "```python\n",
    "import pandas\n",
    "```"
   ]
  },
  {
   "cell_type": "markdown",
   "id": "2194e036-5f37-4a4f-ac77-3361f41f5197",
   "metadata": {},
   "source": [
    "## Dataframe\n",
    "In pandas, DataFrame is a 2 dimensional data structure, like a 2 dimensional array, or a table with rows and columns.\n",
    "\n",
    "```python \n",
    "pandas.DataFrame(data, index, dtype, copy)\n",
    "```"
   ]
  },
  {
   "cell_type": "markdown",
   "id": "c95eb4ec-747d-40df-830f-f7eb458e960b",
   "metadata": {},
   "source": [
    "#### Examples"
   ]
  },
  {
   "cell_type": "code",
   "execution_count": 1,
   "id": "60b10fa5-3e42-48e9-ae2d-b6e9e77ecd56",
   "metadata": {},
   "outputs": [
    {
     "name": "stdout",
     "output_type": "stream",
     "text": [
      "       Country  CountryCode Currency\n",
      "0        India           91    Rupee\n",
      "1          USA            1   Doller\n",
      "2        Japan           81      Yen\n",
      "3  Switzerland          268    Franc\n"
     ]
    }
   ],
   "source": [
    "## Example 1\n",
    "\n",
    "import pandas\n",
    "\n",
    "mydataset = {\n",
    "  'Country': [\"India\", \"USA\", \"Japan\", 'Switzerland'],\n",
    "  'CountryCode': [91, 1, 81, 268],\n",
    "  'Currency': ['Rupee', 'Doller', 'Yen', 'Franc']\n",
    "}\n",
    "\n",
    "myvar = pandas.DataFrame(mydataset)\n",
    "\n",
    "print(myvar)\n"
   ]
  },
  {
   "cell_type": "code",
   "execution_count": 2,
   "id": "176e5f32-ca58-4a83-b372-4392e3bc5c27",
   "metadata": {},
   "outputs": [
    {
     "name": "stdout",
     "output_type": "stream",
     "text": [
      "       Country  Code Currency\n",
      "0        India    91    Rupee\n",
      "1          USA     1   Doller\n",
      "2        Japan    81      Yen\n",
      "3  Switzerland   268    Franc\n"
     ]
    }
   ],
   "source": [
    "## Examples 1'\n",
    "\n",
    "import pandas as pd\n",
    "\n",
    "mydataset = {\n",
    "  'Country': [\"India\", \"USA\", \"Japan\", 'Switzerland'],\n",
    "  'Code': [91, 1, 81, 268],\n",
    "  'Currency': ['Rupee', 'Doller', 'Yen', 'Franc']\n",
    "}\n",
    "\n",
    "myvar = pd.DataFrame(mydataset)\n",
    "\n",
    "print(myvar)"
   ]
  },
  {
   "cell_type": "markdown",
   "id": "a317bf15-c356-4f66-b843-d870d24c64f1",
   "metadata": {},
   "source": [
    "#### Example 2"
   ]
  },
  {
   "cell_type": "code",
   "execution_count": 3,
   "id": "456eb46a-1bf7-409f-9771-f22172254d0f",
   "metadata": {},
   "outputs": [],
   "source": [
    "import pandas as pd"
   ]
  },
  {
   "cell_type": "code",
   "execution_count": 29,
   "id": "baa800e2-621b-4f36-a334-5ef60805d268",
   "metadata": {},
   "outputs": [],
   "source": [
    "df = pd.DataFrame([['India', 91, 'Rupee'],['USA', 1, 'Doller'],['Japan', 81, 'Yen'], ['Switzerland', 268, 'Franc']], \n",
    "                    columns=['Country', 'Code', 'Currency'], \n",
    "                    index=[\"a\",\"b\",\"c\",\"d\"])"
   ]
  },
  {
   "cell_type": "code",
   "execution_count": 30,
   "id": "72391101-091e-4eb1-b976-6101594a1b86",
   "metadata": {},
   "outputs": [
    {
     "name": "stdout",
     "output_type": "stream",
     "text": [
      "       Country  Code Currency\n",
      "a        India    91    Rupee\n",
      "b          USA     1   Doller\n",
      "c        Japan    81      Yen\n",
      "d  Switzerland   268    Franc\n"
     ]
    }
   ],
   "source": [
    "print(df)"
   ]
  },
  {
   "cell_type": "code",
   "execution_count": 31,
   "id": "e9548972-79d3-41f7-a2d3-ba3d2680d09c",
   "metadata": {},
   "outputs": [
    {
     "data": {
      "text/html": [
       "<div>\n",
       "<style scoped>\n",
       "    .dataframe tbody tr th:only-of-type {\n",
       "        vertical-align: middle;\n",
       "    }\n",
       "\n",
       "    .dataframe tbody tr th {\n",
       "        vertical-align: top;\n",
       "    }\n",
       "\n",
       "    .dataframe thead th {\n",
       "        text-align: right;\n",
       "    }\n",
       "</style>\n",
       "<table border=\"1\" class=\"dataframe\">\n",
       "  <thead>\n",
       "    <tr style=\"text-align: right;\">\n",
       "      <th></th>\n",
       "      <th>Country</th>\n",
       "      <th>Code</th>\n",
       "      <th>Currency</th>\n",
       "    </tr>\n",
       "  </thead>\n",
       "  <tbody>\n",
       "    <tr>\n",
       "      <th>a</th>\n",
       "      <td>India</td>\n",
       "      <td>91</td>\n",
       "      <td>Rupee</td>\n",
       "    </tr>\n",
       "    <tr>\n",
       "      <th>b</th>\n",
       "      <td>USA</td>\n",
       "      <td>1</td>\n",
       "      <td>Doller</td>\n",
       "    </tr>\n",
       "    <tr>\n",
       "      <th>c</th>\n",
       "      <td>Japan</td>\n",
       "      <td>81</td>\n",
       "      <td>Yen</td>\n",
       "    </tr>\n",
       "    <tr>\n",
       "      <th>d</th>\n",
       "      <td>Switzerland</td>\n",
       "      <td>268</td>\n",
       "      <td>Franc</td>\n",
       "    </tr>\n",
       "  </tbody>\n",
       "</table>\n",
       "</div>"
      ],
      "text/plain": [
       "       Country  Code Currency\n",
       "a        India    91    Rupee\n",
       "b          USA     1   Doller\n",
       "c        Japan    81      Yen\n",
       "d  Switzerland   268    Franc"
      ]
     },
     "execution_count": 31,
     "metadata": {},
     "output_type": "execute_result"
    }
   ],
   "source": [
    "df.head()"
   ]
  },
  {
   "cell_type": "code",
   "execution_count": 32,
   "id": "f5c2dc7f-b758-44f4-8e86-4885269aaeee",
   "metadata": {},
   "outputs": [
    {
     "data": {
      "text/html": [
       "<div>\n",
       "<style scoped>\n",
       "    .dataframe tbody tr th:only-of-type {\n",
       "        vertical-align: middle;\n",
       "    }\n",
       "\n",
       "    .dataframe tbody tr th {\n",
       "        vertical-align: top;\n",
       "    }\n",
       "\n",
       "    .dataframe thead th {\n",
       "        text-align: right;\n",
       "    }\n",
       "</style>\n",
       "<table border=\"1\" class=\"dataframe\">\n",
       "  <thead>\n",
       "    <tr style=\"text-align: right;\">\n",
       "      <th></th>\n",
       "      <th>Country</th>\n",
       "      <th>Code</th>\n",
       "      <th>Currency</th>\n",
       "    </tr>\n",
       "  </thead>\n",
       "  <tbody>\n",
       "    <tr>\n",
       "      <th>a</th>\n",
       "      <td>India</td>\n",
       "      <td>91</td>\n",
       "      <td>Rupee</td>\n",
       "    </tr>\n",
       "    <tr>\n",
       "      <th>b</th>\n",
       "      <td>USA</td>\n",
       "      <td>1</td>\n",
       "      <td>Doller</td>\n",
       "    </tr>\n",
       "    <tr>\n",
       "      <th>c</th>\n",
       "      <td>Japan</td>\n",
       "      <td>81</td>\n",
       "      <td>Yen</td>\n",
       "    </tr>\n",
       "    <tr>\n",
       "      <th>d</th>\n",
       "      <td>Switzerland</td>\n",
       "      <td>268</td>\n",
       "      <td>Franc</td>\n",
       "    </tr>\n",
       "  </tbody>\n",
       "</table>\n",
       "</div>"
      ],
      "text/plain": [
       "       Country  Code Currency\n",
       "a        India    91    Rupee\n",
       "b          USA     1   Doller\n",
       "c        Japan    81      Yen\n",
       "d  Switzerland   268    Franc"
      ]
     },
     "execution_count": 32,
     "metadata": {},
     "output_type": "execute_result"
    }
   ],
   "source": [
    "df.tail()"
   ]
  },
  {
   "cell_type": "code",
   "execution_count": 33,
   "id": "844365b0-6aa0-45e4-8d3a-c9e7ab97bae6",
   "metadata": {},
   "outputs": [
    {
     "data": {
      "text/plain": [
       "Index(['Country', 'Code', 'Currency'], dtype='object')"
      ]
     },
     "execution_count": 33,
     "metadata": {},
     "output_type": "execute_result"
    }
   ],
   "source": [
    "df.columns"
   ]
  },
  {
   "cell_type": "code",
   "execution_count": 34,
   "id": "b5fe7cc7-fdb0-495f-9f18-194a24ba0e24",
   "metadata": {},
   "outputs": [
    {
     "data": {
      "text/plain": [
       "['a', 'b', 'c', 'd']"
      ]
     },
     "execution_count": 34,
     "metadata": {},
     "output_type": "execute_result"
    }
   ],
   "source": [
    "df.index.tolist()"
   ]
  },
  {
   "cell_type": "code",
   "execution_count": 35,
   "id": "683fb6de-bd3d-418b-b719-60132ac7fa4b",
   "metadata": {},
   "outputs": [
    {
     "name": "stdout",
     "output_type": "stream",
     "text": [
      "<class 'pandas.core.frame.DataFrame'>\n",
      "Index: 4 entries, a to d\n",
      "Data columns (total 3 columns):\n",
      " #   Column    Non-Null Count  Dtype \n",
      "---  ------    --------------  ----- \n",
      " 0   Country   4 non-null      object\n",
      " 1   Code      4 non-null      int64 \n",
      " 2   Currency  4 non-null      object\n",
      "dtypes: int64(1), object(2)\n",
      "memory usage: 128.0+ bytes\n"
     ]
    }
   ],
   "source": [
    "df.info()"
   ]
  },
  {
   "cell_type": "markdown",
   "id": "01f82425-fabc-4aff-8b96-6b1df6725e9c",
   "metadata": {},
   "source": [
    "#### df.describe() \n",
    "df.describe() method in the Pandas library in Python is used to generate descriptive statistics of a DataFrame's columns."
   ]
  },
  {
   "cell_type": "code",
   "execution_count": 38,
   "id": "7ce45a8a-1eeb-4a83-8960-9684738fbb8e",
   "metadata": {},
   "outputs": [
    {
     "name": "stdout",
     "output_type": "stream",
     "text": [
      "Student Dataset\n",
      "      name  age  height_cm  weight_kg  exam_score  sleep_hours  coffee_cups\n",
      "0    Alice   20        165         55          85            7            2\n",
      "1      Bob   22        180         75          62            5            4\n",
      "2  Charlie   21        175         70          78            6            3\n",
      "3    Diana   23        168         58          92            8            1\n",
      "4      Eve   20        160         52          88            7            2\n",
      "5    Frank   24        185         80          55            4            5\n",
      "6    Grace   19        162         54          95            9            0\n",
      "7    Henry   22        178         76          65            6            3\n"
     ]
    }
   ],
   "source": [
    "import pandas as pd\n",
    "import numpy as np\n",
    "\n",
    "# Create a funny student dataset\n",
    "data = {\n",
    "    'name': ['Alice', 'Bob', 'Charlie', 'Diana', 'Eve', 'Frank', 'Grace', 'Henry'],\n",
    "    'age': [20, 22, 21, 23, 20, 24, 19, 22],\n",
    "    'height_cm': [165, 180, 175, 168, 160, 185, 162, 178],\n",
    "    'weight_kg': [55, 75, 70, 58, 52, 80, 54, 76],\n",
    "    'exam_score': [85, 62, 78, 92, 88, 55, 95, 65],\n",
    "    'sleep_hours': [7, 5, 6, 8, 7, 4, 9, 6],\n",
    "    'coffee_cups': [2, 4, 3, 1, 2, 5, 0, 3]\n",
    "}\n",
    "\n",
    "df = pd.DataFrame(data)\n",
    "print(\"Student Dataset\")\n",
    "print(df)"
   ]
  },
  {
   "cell_type": "code",
   "execution_count": 40,
   "id": "2606ffb6-e408-4dc3-9c23-84dad4c16dde",
   "metadata": {},
   "outputs": [
    {
     "name": "stdout",
     "output_type": "stream",
     "text": [
      "Basic describe() - All numerical columns:\n",
      "             age   height_cm  weight_kg  exam_score  sleep_hours  coffee_cups\n",
      "count   8.000000    8.000000   8.000000     8.00000     8.000000     8.000000\n",
      "mean   21.375000  171.625000  65.000000    77.50000     6.500000     2.500000\n",
      "std     1.685018    9.148575  11.401754    15.05229     1.603567     1.603567\n",
      "min    19.000000  160.000000  52.000000    55.00000     4.000000     0.000000\n",
      "25%    20.000000  164.250000  54.750000    64.25000     5.750000     1.750000\n",
      "50%    21.500000  171.500000  64.000000    81.50000     6.500000     2.500000\n",
      "75%    22.250000  178.500000  75.250000    89.00000     7.250000     3.250000\n",
      "max    24.000000  185.000000  80.000000    95.00000     9.000000     5.000000\n"
     ]
    }
   ],
   "source": [
    "print(\"Basic describe() - All numerical columns:\")\n",
    "print(df.describe())"
   ]
  },
  {
   "cell_type": "code",
   "execution_count": 42,
   "id": "14502433-31cf-4319-949f-ac60618d8db9",
   "metadata": {},
   "outputs": [
    {
     "name": "stdout",
     "output_type": "stream",
     "text": [
      "🎯 describe() on exam scores:\n",
      "count     8.00000\n",
      "mean     77.50000\n",
      "std      15.05229\n",
      "min      55.00000\n",
      "25%      64.25000\n",
      "50%      81.50000\n",
      "75%      89.00000\n",
      "max      95.00000\n",
      "Name: exam_score, dtype: float64\n"
     ]
    }
   ],
   "source": [
    "print(\"🎯 describe() on exam scores:\")\n",
    "print(df['exam_score'].describe())"
   ]
  },
  {
   "cell_type": "code",
   "execution_count": 43,
   "id": "b7142acf-d5e5-4f65-abaf-ae19ba2a5bd9",
   "metadata": {},
   "outputs": [
    {
     "name": "stdout",
     "output_type": "stream",
     "text": [
      "Sleep and Coffee Stats:\n",
      "       sleep_hours  coffee_cups\n",
      "count     8.000000     8.000000\n",
      "mean      6.500000     2.500000\n",
      "std       1.603567     1.603567\n",
      "min       4.000000     0.000000\n",
      "25%       5.750000     1.750000\n",
      "50%       6.500000     2.500000\n",
      "75%       7.250000     3.250000\n",
      "max       9.000000     5.000000\n"
     ]
    }
   ],
   "source": [
    "print(\"Sleep and Coffee Stats:\")\n",
    "print(df[['sleep_hours', 'coffee_cups']].describe())"
   ]
  },
  {
   "cell_type": "code",
   "execution_count": 44,
   "id": "f24c41d3-c470-48c3-9748-7f4a135805f0",
   "metadata": {},
   "outputs": [
    {
     "data": {
      "text/plain": [
       "(8, 7)"
      ]
     },
     "execution_count": 44,
     "metadata": {},
     "output_type": "execute_result"
    }
   ],
   "source": [
    "df.shape"
   ]
  },
  {
   "cell_type": "code",
   "execution_count": 45,
   "id": "bbd8722f-ac61-470b-a4d0-57aa6017006b",
   "metadata": {},
   "outputs": [
    {
     "data": {
      "text/plain": [
       "56"
      ]
     },
     "execution_count": 45,
     "metadata": {},
     "output_type": "execute_result"
    }
   ],
   "source": [
    "df.size"
   ]
  },
  {
   "cell_type": "code",
   "execution_count": 46,
   "id": "6e61468e-6d43-4fc1-a6a4-ff11ef9267d9",
   "metadata": {},
   "outputs": [
    {
     "name": "stdout",
     "output_type": "stream",
     "text": [
      "/Users/abdulquadir/Desktop/Python-Computation-Workshop\n"
     ]
    }
   ],
   "source": [
    "!pwd"
   ]
  },
  {
   "cell_type": "markdown",
   "id": "d91eb784-8241-4861-b4a1-e8075fa52832",
   "metadata": {},
   "source": [
    "### Creating a DataFrame"
   ]
  },
  {
   "cell_type": "code",
   "execution_count": 6,
   "id": "16449d4a-e933-4001-8fde-07ba7ddc9131",
   "metadata": {},
   "outputs": [
    {
     "name": "stdout",
     "output_type": "stream",
     "text": [
      "    0\n",
      "0  10\n",
      "1  20\n",
      "2  30\n",
      "3  40\n"
     ]
    }
   ],
   "source": [
    "# Converting a list into a DataFrame\n",
    "list1 = [10,20,30,40]\n",
    "data = pd.DataFrame(list1)\n",
    "print(data)"
   ]
  },
  {
   "cell_type": "markdown",
   "id": "5eda26dc-7eb1-4840-8358-b8f0a0bb4426",
   "metadata": {},
   "source": [
    "### DataFrame - Addition & Deletion of Columns"
   ]
  },
  {
   "cell_type": "code",
   "execution_count": 64,
   "id": "fe26954a-48e6-42d0-b58c-0c9acd70d438",
   "metadata": {},
   "outputs": [
    {
     "name": "stdout",
     "output_type": "stream",
     "text": [
      "               Author                      Book\n",
      "0   Fyodor Dostoevsky      Crime and Punishment\n",
      "1   Fyodor Dostoevsky    The Brothers Karamazov\n",
      "2   Fyodor Dostoevsky                 The Idiot\n",
      "3   Fyodor Dostoevsky    Notes from Underground\n",
      "4         Leo Tolstoy             War and Peace\n",
      "5         Leo Tolstoy             Anna Karenina\n",
      "6         Leo Tolstoy  The Death of Ivan Ilyich\n",
      "7         Franz Kafka         The Metamorphosis\n",
      "8         Franz Kafka                 The Trial\n",
      "9         Franz Kafka                The Castle\n",
      "10      Khalil Gibran               The Prophet\n",
      "11      Khalil Gibran             Sand and Foam\n",
      "12      Khalil Gibran                The Madman\n",
      "13      George Orwell                      1984\n",
      "14      George Orwell               Animal Farm\n",
      "15      George Orwell       Homage to Catalonia\n",
      "16      Anton Chekhov        The Cherry Orchard\n",
      "17      Anton Chekhov               Uncle Vanya\n",
      "18      Anton Chekhov               The Seagull\n",
      "19      Nikolai Gogol                Dead Souls\n",
      "20      Nikolai Gogol              The Overcoat\n",
      "21      Nikolai Gogol                  The Nose\n",
      "22        Maxim Gorky                The Mother\n",
      "23        Maxim Gorky              My Childhood\n",
      "24      Ivan Turgenev          Fathers and Sons\n",
      "25      Ivan Turgenev    A Month in the Country\n",
      "26  Alexander Pushkin             Eugene Onegin\n",
      "27  Alexander Pushkin       The Queen of Spades\n"
     ]
    }
   ],
   "source": [
    "import pandas as pd\n",
    "\n",
    "# Step 1: Create a dictionary of authors and their books\n",
    "authors_books = {\n",
    "    \"Fyodor Dostoevsky\": [\n",
    "        \"Crime and Punishment\",\n",
    "        \"The Brothers Karamazov\",\n",
    "        \"The Idiot\",\n",
    "        \"Notes from Underground\"\n",
    "    ],\n",
    "    \"Leo Tolstoy\": [\n",
    "        \"War and Peace\",\n",
    "        \"Anna Karenina\",\n",
    "        \"The Death of Ivan Ilyich\"\n",
    "    ],\n",
    "    \"Franz Kafka\": [\n",
    "        \"The Metamorphosis\",\n",
    "        \"The Trial\",\n",
    "        \"The Castle\"\n",
    "    ],\n",
    "    \"Khalil Gibran\": [\n",
    "        \"The Prophet\",\n",
    "        \"Sand and Foam\",\n",
    "        \"The Madman\"\n",
    "    ],\n",
    "    \"George Orwell\": [\n",
    "        \"1984\",\n",
    "        \"Animal Farm\",\n",
    "        \"Homage to Catalonia\"\n",
    "    ],\n",
    "    \"Anton Chekhov\": [\n",
    "        \"The Cherry Orchard\",\n",
    "        \"Uncle Vanya\",\n",
    "        \"The Seagull\"\n",
    "    ],\n",
    "    \"Nikolai Gogol\": [\n",
    "        \"Dead Souls\",\n",
    "        \"The Overcoat\",\n",
    "        \"The Nose\"\n",
    "    ],\n",
    "    \"Maxim Gorky\": [\n",
    "        \"The Mother\",\n",
    "        \"My Childhood\"\n",
    "    ],\n",
    "    \"Ivan Turgenev\": [\n",
    "        \"Fathers and Sons\",\n",
    "        \"A Month in the Country\"\n",
    "    ],\n",
    "    \"Alexander Pushkin\": [\n",
    "        \"Eugene Onegin\",\n",
    "        \"The Queen of Spades\"\n",
    "    ]\n",
    "}\n",
    "\n",
    "# Step 2: Convert the dictionary into a list of records for DataFrame\n",
    "data = []\n",
    "for author, books in authors_books.items():\n",
    "    for book in books:\n",
    "        data.append({\"Author\": author, \"Book\": book})\n",
    "\n",
    "# Step 3: Create a pandas DataFrame\n",
    "df = pd.DataFrame(data)\n",
    "\n",
    "# Step 4: Display the DataFrame\n",
    "print(df)\n",
    "\n",
    "# (Optional) Step 5: Save it to a CSV file\n",
    "df.to_csv(\"famous_authors_books.csv\", index=False)\n"
   ]
  },
  {
   "cell_type": "code",
   "execution_count": 65,
   "id": "60effdbd-c6f3-431e-98d9-e3acd77e1dd6",
   "metadata": {},
   "outputs": [
    {
     "name": "stdout",
     "output_type": "stream",
     "text": [
      "               Author                      Book    Year\n",
      "0   Fyodor Dostoevsky      Crime and Punishment  1866.0\n",
      "1   Fyodor Dostoevsky    The Brothers Karamazov  1880.0\n",
      "2   Fyodor Dostoevsky                 The Idiot  1869.0\n",
      "3   Fyodor Dostoevsky    Notes from Underground  1864.0\n",
      "4         Leo Tolstoy             War and Peace  1869.0\n",
      "5         Leo Tolstoy             Anna Karenina  1877.0\n",
      "6         Leo Tolstoy  The Death of Ivan Ilyich  1886.0\n",
      "7         Franz Kafka         The Metamorphosis  1915.0\n",
      "8         Franz Kafka                 The Trial  1925.0\n",
      "9         Franz Kafka                The Castle  1926.0\n",
      "10      Khalil Gibran               The Prophet     NaN\n",
      "11      Khalil Gibran             Sand and Foam     NaN\n",
      "12      Khalil Gibran                The Madman     NaN\n",
      "13      George Orwell                      1984     NaN\n",
      "14      George Orwell               Animal Farm     NaN\n",
      "15      George Orwell       Homage to Catalonia     NaN\n",
      "16      Anton Chekhov        The Cherry Orchard     NaN\n",
      "17      Anton Chekhov               Uncle Vanya     NaN\n",
      "18      Anton Chekhov               The Seagull     NaN\n",
      "19      Nikolai Gogol                Dead Souls     NaN\n",
      "20      Nikolai Gogol              The Overcoat     NaN\n",
      "21      Nikolai Gogol                  The Nose     NaN\n",
      "22        Maxim Gorky                The Mother     NaN\n",
      "23        Maxim Gorky              My Childhood     NaN\n",
      "24      Ivan Turgenev          Fathers and Sons     NaN\n",
      "25      Ivan Turgenev    A Month in the Country     NaN\n",
      "26  Alexander Pushkin             Eugene Onegin     NaN\n",
      "27  Alexander Pushkin       The Queen of Spades     NaN\n"
     ]
    }
   ],
   "source": [
    "# Create a Series for publication years\n",
    "years = pd.Series([\n",
    "    1866,  # Crime and Punishment\n",
    "    1880,  # The Brothers Karamazov\n",
    "    1869,  # The Idiot\n",
    "    1864,  # Notes from Underground\n",
    "    1869,  # War and Peace\n",
    "    1877,  # Anna Karenina\n",
    "    1886,  # The Death of Ivan Ilyich\n",
    "    1915,  # The Metamorphosis\n",
    "    1925,  # The Trial (posthumous)\n",
    "    1926   # The Castle (posthumous)\n",
    "])\n",
    "\n",
    "df[\"Year\"] = years\n",
    "print(df)"
   ]
  },
  {
   "cell_type": "code",
   "execution_count": 66,
   "id": "92c5c2fe-16ba-4642-8d4e-579e6c83f548",
   "metadata": {},
   "outputs": [],
   "source": [
    "# DataFrame columns can be deleted using the del() function\n",
    "# Also pop() function\n",
    "del df[\"Year\"]"
   ]
  },
  {
   "cell_type": "code",
   "execution_count": 67,
   "id": "38176dc6-4dca-4408-99bc-443878537bd4",
   "metadata": {},
   "outputs": [
    {
     "name": "stdout",
     "output_type": "stream",
     "text": [
      "               Author                      Book\n",
      "0   Fyodor Dostoevsky      Crime and Punishment\n",
      "1   Fyodor Dostoevsky    The Brothers Karamazov\n",
      "2   Fyodor Dostoevsky                 The Idiot\n",
      "3   Fyodor Dostoevsky    Notes from Underground\n",
      "4         Leo Tolstoy             War and Peace\n",
      "5         Leo Tolstoy             Anna Karenina\n",
      "6         Leo Tolstoy  The Death of Ivan Ilyich\n",
      "7         Franz Kafka         The Metamorphosis\n",
      "8         Franz Kafka                 The Trial\n",
      "9         Franz Kafka                The Castle\n",
      "10      Khalil Gibran               The Prophet\n",
      "11      Khalil Gibran             Sand and Foam\n",
      "12      Khalil Gibran                The Madman\n",
      "13      George Orwell                      1984\n",
      "14      George Orwell               Animal Farm\n",
      "15      George Orwell       Homage to Catalonia\n",
      "16      Anton Chekhov        The Cherry Orchard\n",
      "17      Anton Chekhov               Uncle Vanya\n",
      "18      Anton Chekhov               The Seagull\n",
      "19      Nikolai Gogol                Dead Souls\n",
      "20      Nikolai Gogol              The Overcoat\n",
      "21      Nikolai Gogol                  The Nose\n",
      "22        Maxim Gorky                The Mother\n",
      "23        Maxim Gorky              My Childhood\n",
      "24      Ivan Turgenev          Fathers and Sons\n",
      "25      Ivan Turgenev    A Month in the Country\n",
      "26  Alexander Pushkin             Eugene Onegin\n",
      "27  Alexander Pushkin       The Queen of Spades\n"
     ]
    }
   ],
   "source": [
    "print(df)"
   ]
  },
  {
   "cell_type": "code",
   "execution_count": 68,
   "id": "a053a736-ccf5-4948-b204-a356a7029778",
   "metadata": {},
   "outputs": [
    {
     "name": "stdout",
     "output_type": "stream",
     "text": [
      "              Author                    Book\n",
      "0  Fyodor Dostoevsky    Crime and Punishment\n",
      "1  Fyodor Dostoevsky  The Brothers Karamazov\n",
      "2  Fyodor Dostoevsky               The Idiot\n",
      "3  Fyodor Dostoevsky  Notes from Underground\n"
     ]
    }
   ],
   "source": [
    "## Row selection can be done using loc() or iloc()\n",
    "print(df.iloc[0:4])"
   ]
  },
  {
   "cell_type": "code",
   "execution_count": 69,
   "id": "7ca3509d-7ab6-4aba-95d9-032055671b24",
   "metadata": {},
   "outputs": [
    {
     "name": "stdout",
     "output_type": "stream",
     "text": [
      "        Author               Book\n",
      "7  Franz Kafka  The Metamorphosis\n",
      "8  Franz Kafka          The Trial\n",
      "9  Franz Kafka         The Castle\n"
     ]
    }
   ],
   "source": [
    "# Get all books written by Fyodor Dostoevsky\n",
    "Kafka_books = df.loc[df[\"Author\"] == \"Franz Kafka\"]\n",
    "print(Kafka_books)"
   ]
  },
  {
   "cell_type": "code",
   "execution_count": 70,
   "id": "e04fcfb9-6d89-4565-8fa1-4d171973fe02",
   "metadata": {},
   "outputs": [
    {
     "name": "stdout",
     "output_type": "stream",
     "text": [
      "               Author                             Book\n",
      "0   Fyodor Dostoevsky             Crime and Punishment\n",
      "1   Fyodor Dostoevsky           The Brothers Karamazov\n",
      "2   Fyodor Dostoevsky                        The Idiot\n",
      "3   Fyodor Dostoevsky           Notes from Underground\n",
      "4         Leo Tolstoy                    War and Peace\n",
      "5         Leo Tolstoy                    Anna Karenina\n",
      "6         Leo Tolstoy         The Death of Ivan Ilyich\n",
      "7         Franz Kafka                The Metamorphosis\n",
      "8         Franz Kafka                        The Trial\n",
      "9         Franz Kafka                       The Castle\n",
      "10      Khalil Gibran                      The Prophet\n",
      "11      Khalil Gibran                    Sand and Foam\n",
      "12      Khalil Gibran                       The Madman\n",
      "13      George Orwell                             1984\n",
      "14      George Orwell                      Animal Farm\n",
      "15      George Orwell              Homage to Catalonia\n",
      "16      Anton Chekhov               The Cherry Orchard\n",
      "17      Anton Chekhov                      Uncle Vanya\n",
      "18      Anton Chekhov                      The Seagull\n",
      "19      Nikolai Gogol                       Dead Souls\n",
      "20      Nikolai Gogol                     The Overcoat\n",
      "21      Nikolai Gogol                         The Nose\n",
      "22        Maxim Gorky                       The Mother\n",
      "23        Maxim Gorky                     My Childhood\n",
      "24      Ivan Turgenev                 Fathers and Sons\n",
      "25      Ivan Turgenev           A Month in the Country\n",
      "26  Alexander Pushkin                    Eugene Onegin\n",
      "27  Alexander Pushkin              The Queen of Spades\n",
      "28        Oscar Wilde       The Picture of Dorian Gray\n",
      "29        Oscar Wilde  The Importance of Being Earnest\n",
      "30        Oscar Wilde                     De Profundis\n"
     ]
    }
   ],
   "source": [
    "## The append() function can be use to add more rows to the DataFrame\n",
    "new_books = [\n",
    "    {\"Author\": \"Oscar Wilde\", \"Book\": \"The Picture of Dorian Gray\"},\n",
    "    {\"Author\": \"Oscar Wilde\", \"Book\": \"The Importance of Being Earnest\"},\n",
    "    {\"Author\": \"Oscar Wilde\", \"Book\": \"De Profundis\"}\n",
    "]\n",
    "\n",
    "# Convert to DataFrame\n",
    "oscar_df = pd.DataFrame(new_books)\n",
    "\n",
    "df = pd.concat([df, oscar_df], ignore_index=True)\n",
    "print(df)"
   ]
  },
  {
   "cell_type": "markdown",
   "id": "61b2d1bf-2eb5-477f-9622-9c5cc47ce8f9",
   "metadata": {},
   "source": [
    "### Importing and Exporting Data"
   ]
  },
  {
   "cell_type": "code",
   "execution_count": 73,
   "id": "e7de1a31-a08c-4703-8e64-ee55f116b9c2",
   "metadata": {},
   "outputs": [
    {
     "ename": "FileNotFoundError",
     "evalue": "[Errno 2] No such file or directory: '../input/Cars2015.csv'",
     "output_type": "error",
     "traceback": [
      "\u001b[0;31m---------------------------------------------------------------------------\u001b[0m",
      "\u001b[0;31mFileNotFoundError\u001b[0m                         Traceback (most recent call last)",
      "Cell \u001b[0;32mIn[73], line 2\u001b[0m\n\u001b[1;32m      1\u001b[0m \u001b[38;5;66;03m#Data can be loaded into DataFrames from input data stored in the CSV format using the read_csv() function\u001b[39;00m\n\u001b[0;32m----> 2\u001b[0m table_csv \u001b[38;5;241m=\u001b[39m \u001b[43mpd\u001b[49m\u001b[38;5;241;43m.\u001b[39;49m\u001b[43mread_csv\u001b[49m\u001b[43m(\u001b[49m\u001b[38;5;124;43m'\u001b[39;49m\u001b[38;5;124;43m../input/Cars2015.csv\u001b[39;49m\u001b[38;5;124;43m'\u001b[39;49m\u001b[43m)\u001b[49m\n\u001b[1;32m      4\u001b[0m \u001b[38;5;66;03m# Data present in DataFrames can be written to a CSV file using the to_csv() function\u001b[39;00m\n\u001b[1;32m      5\u001b[0m \u001b[38;5;66;03m# If the specified path doesn't exist, a file of the same name is automatically created\u001b[39;00m\n\u001b[1;32m      6\u001b[0m table_csv\u001b[38;5;241m.\u001b[39mto_csv(\u001b[38;5;124m'\u001b[39m\u001b[38;5;124mnewcars2015.csv\u001b[39m\u001b[38;5;124m'\u001b[39m)\n",
      "File \u001b[0;32m/opt/miniconda3/envs/py311/lib/python3.11/site-packages/pandas/io/parsers/readers.py:1026\u001b[0m, in \u001b[0;36mread_csv\u001b[0;34m(filepath_or_buffer, sep, delimiter, header, names, index_col, usecols, dtype, engine, converters, true_values, false_values, skipinitialspace, skiprows, skipfooter, nrows, na_values, keep_default_na, na_filter, verbose, skip_blank_lines, parse_dates, infer_datetime_format, keep_date_col, date_parser, date_format, dayfirst, cache_dates, iterator, chunksize, compression, thousands, decimal, lineterminator, quotechar, quoting, doublequote, escapechar, comment, encoding, encoding_errors, dialect, on_bad_lines, delim_whitespace, low_memory, memory_map, float_precision, storage_options, dtype_backend)\u001b[0m\n\u001b[1;32m   1013\u001b[0m kwds_defaults \u001b[38;5;241m=\u001b[39m _refine_defaults_read(\n\u001b[1;32m   1014\u001b[0m     dialect,\n\u001b[1;32m   1015\u001b[0m     delimiter,\n\u001b[0;32m   (...)\u001b[0m\n\u001b[1;32m   1022\u001b[0m     dtype_backend\u001b[38;5;241m=\u001b[39mdtype_backend,\n\u001b[1;32m   1023\u001b[0m )\n\u001b[1;32m   1024\u001b[0m kwds\u001b[38;5;241m.\u001b[39mupdate(kwds_defaults)\n\u001b[0;32m-> 1026\u001b[0m \u001b[38;5;28;01mreturn\u001b[39;00m \u001b[43m_read\u001b[49m\u001b[43m(\u001b[49m\u001b[43mfilepath_or_buffer\u001b[49m\u001b[43m,\u001b[49m\u001b[43m \u001b[49m\u001b[43mkwds\u001b[49m\u001b[43m)\u001b[49m\n",
      "File \u001b[0;32m/opt/miniconda3/envs/py311/lib/python3.11/site-packages/pandas/io/parsers/readers.py:620\u001b[0m, in \u001b[0;36m_read\u001b[0;34m(filepath_or_buffer, kwds)\u001b[0m\n\u001b[1;32m    617\u001b[0m _validate_names(kwds\u001b[38;5;241m.\u001b[39mget(\u001b[38;5;124m\"\u001b[39m\u001b[38;5;124mnames\u001b[39m\u001b[38;5;124m\"\u001b[39m, \u001b[38;5;28;01mNone\u001b[39;00m))\n\u001b[1;32m    619\u001b[0m \u001b[38;5;66;03m# Create the parser.\u001b[39;00m\n\u001b[0;32m--> 620\u001b[0m parser \u001b[38;5;241m=\u001b[39m \u001b[43mTextFileReader\u001b[49m\u001b[43m(\u001b[49m\u001b[43mfilepath_or_buffer\u001b[49m\u001b[43m,\u001b[49m\u001b[43m \u001b[49m\u001b[38;5;241;43m*\u001b[39;49m\u001b[38;5;241;43m*\u001b[39;49m\u001b[43mkwds\u001b[49m\u001b[43m)\u001b[49m\n\u001b[1;32m    622\u001b[0m \u001b[38;5;28;01mif\u001b[39;00m chunksize \u001b[38;5;129;01mor\u001b[39;00m iterator:\n\u001b[1;32m    623\u001b[0m     \u001b[38;5;28;01mreturn\u001b[39;00m parser\n",
      "File \u001b[0;32m/opt/miniconda3/envs/py311/lib/python3.11/site-packages/pandas/io/parsers/readers.py:1620\u001b[0m, in \u001b[0;36mTextFileReader.__init__\u001b[0;34m(self, f, engine, **kwds)\u001b[0m\n\u001b[1;32m   1617\u001b[0m     \u001b[38;5;28mself\u001b[39m\u001b[38;5;241m.\u001b[39moptions[\u001b[38;5;124m\"\u001b[39m\u001b[38;5;124mhas_index_names\u001b[39m\u001b[38;5;124m\"\u001b[39m] \u001b[38;5;241m=\u001b[39m kwds[\u001b[38;5;124m\"\u001b[39m\u001b[38;5;124mhas_index_names\u001b[39m\u001b[38;5;124m\"\u001b[39m]\n\u001b[1;32m   1619\u001b[0m \u001b[38;5;28mself\u001b[39m\u001b[38;5;241m.\u001b[39mhandles: IOHandles \u001b[38;5;241m|\u001b[39m \u001b[38;5;28;01mNone\u001b[39;00m \u001b[38;5;241m=\u001b[39m \u001b[38;5;28;01mNone\u001b[39;00m\n\u001b[0;32m-> 1620\u001b[0m \u001b[38;5;28mself\u001b[39m\u001b[38;5;241m.\u001b[39m_engine \u001b[38;5;241m=\u001b[39m \u001b[38;5;28;43mself\u001b[39;49m\u001b[38;5;241;43m.\u001b[39;49m\u001b[43m_make_engine\u001b[49m\u001b[43m(\u001b[49m\u001b[43mf\u001b[49m\u001b[43m,\u001b[49m\u001b[43m \u001b[49m\u001b[38;5;28;43mself\u001b[39;49m\u001b[38;5;241;43m.\u001b[39;49m\u001b[43mengine\u001b[49m\u001b[43m)\u001b[49m\n",
      "File \u001b[0;32m/opt/miniconda3/envs/py311/lib/python3.11/site-packages/pandas/io/parsers/readers.py:1880\u001b[0m, in \u001b[0;36mTextFileReader._make_engine\u001b[0;34m(self, f, engine)\u001b[0m\n\u001b[1;32m   1878\u001b[0m     \u001b[38;5;28;01mif\u001b[39;00m \u001b[38;5;124m\"\u001b[39m\u001b[38;5;124mb\u001b[39m\u001b[38;5;124m\"\u001b[39m \u001b[38;5;129;01mnot\u001b[39;00m \u001b[38;5;129;01min\u001b[39;00m mode:\n\u001b[1;32m   1879\u001b[0m         mode \u001b[38;5;241m+\u001b[39m\u001b[38;5;241m=\u001b[39m \u001b[38;5;124m\"\u001b[39m\u001b[38;5;124mb\u001b[39m\u001b[38;5;124m\"\u001b[39m\n\u001b[0;32m-> 1880\u001b[0m \u001b[38;5;28mself\u001b[39m\u001b[38;5;241m.\u001b[39mhandles \u001b[38;5;241m=\u001b[39m \u001b[43mget_handle\u001b[49m\u001b[43m(\u001b[49m\n\u001b[1;32m   1881\u001b[0m \u001b[43m    \u001b[49m\u001b[43mf\u001b[49m\u001b[43m,\u001b[49m\n\u001b[1;32m   1882\u001b[0m \u001b[43m    \u001b[49m\u001b[43mmode\u001b[49m\u001b[43m,\u001b[49m\n\u001b[1;32m   1883\u001b[0m \u001b[43m    \u001b[49m\u001b[43mencoding\u001b[49m\u001b[38;5;241;43m=\u001b[39;49m\u001b[38;5;28;43mself\u001b[39;49m\u001b[38;5;241;43m.\u001b[39;49m\u001b[43moptions\u001b[49m\u001b[38;5;241;43m.\u001b[39;49m\u001b[43mget\u001b[49m\u001b[43m(\u001b[49m\u001b[38;5;124;43m\"\u001b[39;49m\u001b[38;5;124;43mencoding\u001b[39;49m\u001b[38;5;124;43m\"\u001b[39;49m\u001b[43m,\u001b[49m\u001b[43m \u001b[49m\u001b[38;5;28;43;01mNone\u001b[39;49;00m\u001b[43m)\u001b[49m\u001b[43m,\u001b[49m\n\u001b[1;32m   1884\u001b[0m \u001b[43m    \u001b[49m\u001b[43mcompression\u001b[49m\u001b[38;5;241;43m=\u001b[39;49m\u001b[38;5;28;43mself\u001b[39;49m\u001b[38;5;241;43m.\u001b[39;49m\u001b[43moptions\u001b[49m\u001b[38;5;241;43m.\u001b[39;49m\u001b[43mget\u001b[49m\u001b[43m(\u001b[49m\u001b[38;5;124;43m\"\u001b[39;49m\u001b[38;5;124;43mcompression\u001b[39;49m\u001b[38;5;124;43m\"\u001b[39;49m\u001b[43m,\u001b[49m\u001b[43m \u001b[49m\u001b[38;5;28;43;01mNone\u001b[39;49;00m\u001b[43m)\u001b[49m\u001b[43m,\u001b[49m\n\u001b[1;32m   1885\u001b[0m \u001b[43m    \u001b[49m\u001b[43mmemory_map\u001b[49m\u001b[38;5;241;43m=\u001b[39;49m\u001b[38;5;28;43mself\u001b[39;49m\u001b[38;5;241;43m.\u001b[39;49m\u001b[43moptions\u001b[49m\u001b[38;5;241;43m.\u001b[39;49m\u001b[43mget\u001b[49m\u001b[43m(\u001b[49m\u001b[38;5;124;43m\"\u001b[39;49m\u001b[38;5;124;43mmemory_map\u001b[39;49m\u001b[38;5;124;43m\"\u001b[39;49m\u001b[43m,\u001b[49m\u001b[43m \u001b[49m\u001b[38;5;28;43;01mFalse\u001b[39;49;00m\u001b[43m)\u001b[49m\u001b[43m,\u001b[49m\n\u001b[1;32m   1886\u001b[0m \u001b[43m    \u001b[49m\u001b[43mis_text\u001b[49m\u001b[38;5;241;43m=\u001b[39;49m\u001b[43mis_text\u001b[49m\u001b[43m,\u001b[49m\n\u001b[1;32m   1887\u001b[0m \u001b[43m    \u001b[49m\u001b[43merrors\u001b[49m\u001b[38;5;241;43m=\u001b[39;49m\u001b[38;5;28;43mself\u001b[39;49m\u001b[38;5;241;43m.\u001b[39;49m\u001b[43moptions\u001b[49m\u001b[38;5;241;43m.\u001b[39;49m\u001b[43mget\u001b[49m\u001b[43m(\u001b[49m\u001b[38;5;124;43m\"\u001b[39;49m\u001b[38;5;124;43mencoding_errors\u001b[39;49m\u001b[38;5;124;43m\"\u001b[39;49m\u001b[43m,\u001b[49m\u001b[43m \u001b[49m\u001b[38;5;124;43m\"\u001b[39;49m\u001b[38;5;124;43mstrict\u001b[39;49m\u001b[38;5;124;43m\"\u001b[39;49m\u001b[43m)\u001b[49m\u001b[43m,\u001b[49m\n\u001b[1;32m   1888\u001b[0m \u001b[43m    \u001b[49m\u001b[43mstorage_options\u001b[49m\u001b[38;5;241;43m=\u001b[39;49m\u001b[38;5;28;43mself\u001b[39;49m\u001b[38;5;241;43m.\u001b[39;49m\u001b[43moptions\u001b[49m\u001b[38;5;241;43m.\u001b[39;49m\u001b[43mget\u001b[49m\u001b[43m(\u001b[49m\u001b[38;5;124;43m\"\u001b[39;49m\u001b[38;5;124;43mstorage_options\u001b[39;49m\u001b[38;5;124;43m\"\u001b[39;49m\u001b[43m,\u001b[49m\u001b[43m \u001b[49m\u001b[38;5;28;43;01mNone\u001b[39;49;00m\u001b[43m)\u001b[49m\u001b[43m,\u001b[49m\n\u001b[1;32m   1889\u001b[0m \u001b[43m\u001b[49m\u001b[43m)\u001b[49m\n\u001b[1;32m   1890\u001b[0m \u001b[38;5;28;01massert\u001b[39;00m \u001b[38;5;28mself\u001b[39m\u001b[38;5;241m.\u001b[39mhandles \u001b[38;5;129;01mis\u001b[39;00m \u001b[38;5;129;01mnot\u001b[39;00m \u001b[38;5;28;01mNone\u001b[39;00m\n\u001b[1;32m   1891\u001b[0m f \u001b[38;5;241m=\u001b[39m \u001b[38;5;28mself\u001b[39m\u001b[38;5;241m.\u001b[39mhandles\u001b[38;5;241m.\u001b[39mhandle\n",
      "File \u001b[0;32m/opt/miniconda3/envs/py311/lib/python3.11/site-packages/pandas/io/common.py:873\u001b[0m, in \u001b[0;36mget_handle\u001b[0;34m(path_or_buf, mode, encoding, compression, memory_map, is_text, errors, storage_options)\u001b[0m\n\u001b[1;32m    868\u001b[0m \u001b[38;5;28;01melif\u001b[39;00m \u001b[38;5;28misinstance\u001b[39m(handle, \u001b[38;5;28mstr\u001b[39m):\n\u001b[1;32m    869\u001b[0m     \u001b[38;5;66;03m# Check whether the filename is to be opened in binary mode.\u001b[39;00m\n\u001b[1;32m    870\u001b[0m     \u001b[38;5;66;03m# Binary mode does not support 'encoding' and 'newline'.\u001b[39;00m\n\u001b[1;32m    871\u001b[0m     \u001b[38;5;28;01mif\u001b[39;00m ioargs\u001b[38;5;241m.\u001b[39mencoding \u001b[38;5;129;01mand\u001b[39;00m \u001b[38;5;124m\"\u001b[39m\u001b[38;5;124mb\u001b[39m\u001b[38;5;124m\"\u001b[39m \u001b[38;5;129;01mnot\u001b[39;00m \u001b[38;5;129;01min\u001b[39;00m ioargs\u001b[38;5;241m.\u001b[39mmode:\n\u001b[1;32m    872\u001b[0m         \u001b[38;5;66;03m# Encoding\u001b[39;00m\n\u001b[0;32m--> 873\u001b[0m         handle \u001b[38;5;241m=\u001b[39m \u001b[38;5;28mopen\u001b[39m(\n\u001b[1;32m    874\u001b[0m             handle,\n\u001b[1;32m    875\u001b[0m             ioargs\u001b[38;5;241m.\u001b[39mmode,\n\u001b[1;32m    876\u001b[0m             encoding\u001b[38;5;241m=\u001b[39mioargs\u001b[38;5;241m.\u001b[39mencoding,\n\u001b[1;32m    877\u001b[0m             errors\u001b[38;5;241m=\u001b[39merrors,\n\u001b[1;32m    878\u001b[0m             newline\u001b[38;5;241m=\u001b[39m\u001b[38;5;124m\"\u001b[39m\u001b[38;5;124m\"\u001b[39m,\n\u001b[1;32m    879\u001b[0m         )\n\u001b[1;32m    880\u001b[0m     \u001b[38;5;28;01melse\u001b[39;00m:\n\u001b[1;32m    881\u001b[0m         \u001b[38;5;66;03m# Binary mode\u001b[39;00m\n\u001b[1;32m    882\u001b[0m         handle \u001b[38;5;241m=\u001b[39m \u001b[38;5;28mopen\u001b[39m(handle, ioargs\u001b[38;5;241m.\u001b[39mmode)\n",
      "\u001b[0;31mFileNotFoundError\u001b[0m: [Errno 2] No such file or directory: '../input/Cars2015.csv'"
     ]
    }
   ],
   "source": [
    "#Data can be loaded into DataFrames from input data stored in the CSV format using the read_csv() function\n",
    "table_csv = pd.read_csv('../input/Cars2015.csv')\n",
    "\n",
    "# Data present in DataFrames can be written to a CSV file using the to_csv() function\n",
    "# If the specified path doesn't exist, a file of the same name is automatically created\n",
    "table_csv.to_csv('newcars2015.csv')\n",
    "\n",
    "\n",
    "\n",
    "# Data can be loaded into DataFrames from input data stored in the Excelsheet format using read_excel()\n",
    "sheet = pd.read_excel('cars2015.xlsx')\n",
    "\n",
    "\n",
    "# Data present in DataFrames can be written to a spreadsheet file using to_excel()\n",
    "#If the specified path doesn't exist, a file of the same name is automatically created\n",
    "sheet.to_excel('newcars2015.xlsx')"
   ]
  },
  {
   "cell_type": "code",
   "execution_count": null,
   "id": "191745d1-ead4-45af-98e4-e8edb5ebcea2",
   "metadata": {},
   "outputs": [],
   "source": []
  }
 ],
 "metadata": {
  "kernelspec": {
   "display_name": "py311",
   "language": "python",
   "name": "py311"
  },
  "language_info": {
   "codemirror_mode": {
    "name": "ipython",
    "version": 3
   },
   "file_extension": ".py",
   "mimetype": "text/x-python",
   "name": "python",
   "nbconvert_exporter": "python",
   "pygments_lexer": "ipython3",
   "version": "3.11.9"
  }
 },
 "nbformat": 4,
 "nbformat_minor": 5
}
