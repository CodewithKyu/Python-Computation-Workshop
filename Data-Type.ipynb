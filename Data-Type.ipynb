{
 "cells": [
  {
   "cell_type": "markdown",
   "id": "47394104-fc89-4f56-85ee-ad896ed452fb",
   "metadata": {},
   "source": [
    "# Variable \n",
    "A variable is the name given to a memory location in a program"
   ]
  },
  {
   "cell_type": "code",
   "execution_count": 52,
   "id": "8b535e7e-64ad-40b9-93f1-59a9c67e25eb",
   "metadata": {},
   "outputs": [],
   "source": [
    "a = 488\n",
    "myname = 'Abdul'"
   ]
  },
  {
   "cell_type": "markdown",
   "id": "bb855d0e-b728-4835-9ec8-a88965d517f7",
   "metadata": {},
   "source": [
    "# Data Type\n",
    "\n",
    "In python, these are primary data type:\n",
    "1. Integers == to represent integers\n",
    "2. Float == to represent real values\n",
    "3. Strings == to represent strings\n",
    "4. Boolean == to represent Boolean values True or False\n",
    "5. None == a type with a single value."
   ]
  },
  {
   "cell_type": "code",
   "execution_count": 53,
   "id": "a6428496-9f0b-4e73-923d-82e44159143e",
   "metadata": {},
   "outputs": [],
   "source": [
    "a = 489        # identifies a as class <int>\n",
    "b = 482.48     # identifies b as class <float>\n",
    "c = 'hello'    # identifies a as class <string>"
   ]
  },
  {
   "cell_type": "code",
   "execution_count": 54,
   "id": "8237938c-b744-477d-aff5-a22547d05a82",
   "metadata": {},
   "outputs": [
    {
     "data": {
      "text/plain": [
       "False"
      ]
     },
     "execution_count": 54,
     "metadata": {},
     "output_type": "execute_result"
    }
   ],
   "source": [
    "i = 'x'\n",
    "j = 'y'\n",
    "i == j"
   ]
  },
  {
   "cell_type": "code",
   "execution_count": 55,
   "id": "ca876a86-b2eb-4969-af6d-68e504d27c4d",
   "metadata": {},
   "outputs": [
    {
     "data": {
      "text/plain": [
       "True"
      ]
     },
     "execution_count": 55,
     "metadata": {},
     "output_type": "execute_result"
    }
   ],
   "source": [
    "i = 100\n",
    "j = 100\n",
    "i == j"
   ]
  },
  {
   "cell_type": "markdown",
   "id": "9b178b0b-2e2f-4e00-9fa7-ca663e04b280",
   "metadata": {},
   "source": [
    "# Rules for Choosing an Identifier\n",
    "\n",
    "* A variable name can contain alphabets, digits, and underscores.\n",
    "* A variable name can only start with an alphabet and underscores.\n",
    "* A variable name can’t start with a digit.\n",
    "* No while space is allowed to be used inside a variable name.\n",
    "\n",
    "Examples of a few variable names are: abdul, two9, nine, two_nine etc."
   ]
  },
  {
   "cell_type": "markdown",
   "id": "3485147e-89c7-446d-8041-4cfaf5b75b86",
   "metadata": {},
   "source": []
  },
  {
   "cell_type": "markdown",
   "id": "6a180dac-ddd6-407b-aa6c-f3ea8329084a",
   "metadata": {},
   "source": [
    "# Operators in Python\n",
    "\n",
    "1. Arithmetic operators: +, -, *, / etc.\n",
    "2. Assignment operators: =, +=, -= etc.\n",
    "3. Comparison operators: ==, >, >=, <, != etc.\n",
    "4. Logical operators: and, or, not."
   ]
  },
  {
   "cell_type": "markdown",
   "id": "ed06c518-d21e-48a5-a631-609be6530130",
   "metadata": {},
   "source": [
    "# Operators in Python\n",
    "\n",
    "1. Arithmetic operators: +, -, *, / etc.\n",
    "2. Assignment operators: =, +=, -= etc.\n",
    "3. Comparison operators: ==, >, >=, <, != etc.\n",
    "4. Logical operators: and, or, not."
   ]
  },
  {
   "cell_type": "markdown",
   "id": "f76b4e8d-4f34-47f4-bad6-c75b7a5b8492",
   "metadata": {},
   "source": [
    "# Operators in Python\n",
    "\n",
    "1. Arithmetic operators: +, -, *, / etc.\n",
    "2. Assignment operators: =, +=, -= etc.\n",
    "3. Comparison operators: ==, >, >=, <, != etc.\n",
    "4. Logical operators: and, or, not."
   ]
  },
  {
   "cell_type": "code",
   "execution_count": 56,
   "id": "0a39fd81-f25e-4449-8300-eb806c740615",
   "metadata": {},
   "outputs": [],
   "source": [
    "# 1. Arithmetic Operators\n",
    "a = 6\n",
    "b = 3"
   ]
  },
  {
   "cell_type": "code",
   "execution_count": 57,
   "id": "7dc6985e-a744-4850-a8bf-f8bafc1af431",
   "metadata": {},
   "outputs": [
    {
     "name": "stdout",
     "output_type": "stream",
     "text": [
      "9\n"
     ]
    }
   ],
   "source": [
    "c = a+b  # Summation\n",
    "print(c)"
   ]
  },
  {
   "cell_type": "code",
   "execution_count": 58,
   "id": "c80c5f0f-197b-4977-89fb-86732547689c",
   "metadata": {},
   "outputs": [
    {
     "name": "stdout",
     "output_type": "stream",
     "text": [
      "3\n"
     ]
    }
   ],
   "source": [
    "d = a-b  # Substraction\n",
    "print(d)"
   ]
  },
  {
   "cell_type": "code",
   "execution_count": 59,
   "id": "346c22f1-dd10-4691-b170-00907ce36c7f",
   "metadata": {},
   "outputs": [
    {
     "name": "stdout",
     "output_type": "stream",
     "text": [
      "18\n"
     ]
    }
   ],
   "source": [
    "e = a*b  # Multiplication\n",
    "print(e)"
   ]
  },
  {
   "cell_type": "code",
   "execution_count": 60,
   "id": "e4f13e50-fb49-4ff0-ba11-e1773cdb2bd5",
   "metadata": {},
   "outputs": [
    {
     "name": "stdout",
     "output_type": "stream",
     "text": [
      "2.0\n"
     ]
    }
   ],
   "source": [
    "f1 = a/b  # Division, return float\n",
    "print(f1)"
   ]
  },
  {
   "cell_type": "code",
   "execution_count": null,
   "id": "a55ae575-8a11-4634-b92b-944d6c80e3c1",
   "metadata": {},
   "outputs": [],
   "source": []
  },
  {
   "cell_type": "code",
   "execution_count": null,
   "id": "e0cc6fdc-9e26-44cb-8898-83ca2edc7b1d",
   "metadata": {},
   "outputs": [],
   "source": []
  },
  {
   "cell_type": "code",
   "execution_count": null,
   "id": "30abcac4-dce9-41a6-9c18-cd6a0b4b4de2",
   "metadata": {},
   "outputs": [],
   "source": []
  },
  {
   "cell_type": "code",
   "execution_count": 61,
   "id": "4679f727-0dae-4518-8b3b-4a09e127f701",
   "metadata": {},
   "outputs": [
    {
     "name": "stdout",
     "output_type": "stream",
     "text": [
      "2\n"
     ]
    }
   ],
   "source": [
    "f2 = a//b  # Division, return integer\n",
    "print(f2)"
   ]
  },
  {
   "cell_type": "code",
   "execution_count": 62,
   "id": "b0d568a2-5788-40d5-95a2-19101b5dd92b",
   "metadata": {},
   "outputs": [
    {
     "name": "stdout",
     "output_type": "stream",
     "text": [
      "216\n"
     ]
    }
   ],
   "source": [
    "g = a**b # a raised to the power b\n",
    "print(g)"
   ]
  },
  {
   "cell_type": "code",
   "execution_count": 63,
   "id": "ca505319-e4ad-4275-8a0f-4ef99b611429",
   "metadata": {},
   "outputs": [
    {
     "name": "stdout",
     "output_type": "stream",
     "text": [
      "0\n"
     ]
    }
   ],
   "source": [
    "h = a%b  # remainder\n",
    "print(h)"
   ]
  },
  {
   "cell_type": "markdown",
   "id": "2ca0e339-5501-4cc3-a614-59e590b1ad0b",
   "metadata": {},
   "source": [
    "# Type() function and Typecasting\n",
    "type() function is used to find the data type of a given variable in python."
   ]
  },
  {
   "cell_type": "code",
   "execution_count": 64,
   "id": "2c33c762-0e64-4ae0-8bc3-da3a64c4de06",
   "metadata": {},
   "outputs": [
    {
     "name": "stdout",
     "output_type": "stream",
     "text": [
      "<class 'int'>\n"
     ]
    }
   ],
   "source": [
    "your_age = 29\n",
    "print(type(your_age))"
   ]
  },
  {
   "cell_type": "code",
   "execution_count": 65,
   "id": "5fd36b3b-732f-4676-b96c-44908450bdef",
   "metadata": {},
   "outputs": [
    {
     "name": "stdout",
     "output_type": "stream",
     "text": [
      "<class 'float'>\n"
     ]
    }
   ],
   "source": [
    "your_height = 178.5\n",
    "print(type(your_height))"
   ]
  },
  {
   "cell_type": "code",
   "execution_count": 66,
   "id": "54c93007-3770-43c2-92ff-0fc3bbf1a487",
   "metadata": {},
   "outputs": [
    {
     "name": "stdout",
     "output_type": "stream",
     "text": [
      "<class 'str'>\n"
     ]
    }
   ],
   "source": [
    "your_name = 'Abdul'\n",
    "print(type(your_name))"
   ]
  },
  {
   "cell_type": "markdown",
   "id": "c487c393-d52c-4f4c-b01d-b8b6c68659ef",
   "metadata": {},
   "source": [
    "A number can be converted into a string and vice versa (if possible)\n",
    "\n",
    "There are many functions to convert one data type into another."
   ]
  },
  {
   "cell_type": "code",
   "execution_count": 67,
   "id": "e1ecdf74-ce66-47ab-b0a5-22825ebc9cb1",
   "metadata": {},
   "outputs": [],
   "source": [
    "a = 39\n",
    "b = 29.1\n",
    "c = 'Abdul'"
   ]
  },
  {
   "cell_type": "code",
   "execution_count": 68,
   "id": "67922bb8-c1a8-436a-b227-0c956057a05d",
   "metadata": {},
   "outputs": [
    {
     "name": "stdout",
     "output_type": "stream",
     "text": [
      "<class 'str'>\n"
     ]
    }
   ],
   "source": [
    "# integer/float to string conversion\n",
    "p = str(a)\n",
    "print(type(p))"
   ]
  },
  {
   "cell_type": "code",
   "execution_count": 69,
   "id": "f5909ea7-b400-4467-8146-00f8e6690a0a",
   "metadata": {},
   "outputs": [
    {
     "ename": "ValueError",
     "evalue": "invalid literal for int() with base 10: 'Abdul'",
     "output_type": "error",
     "traceback": [
      "\u001b[0;31m---------------------------------------------------------------------------\u001b[0m",
      "\u001b[0;31mValueError\u001b[0m                                Traceback (most recent call last)",
      "Cell \u001b[0;32mIn[69], line 2\u001b[0m\n\u001b[1;32m      1\u001b[0m \u001b[38;5;66;03m# String to integer/float == Nope\u001b[39;00m\n\u001b[0;32m----> 2\u001b[0m q \u001b[38;5;241m=\u001b[39m \u001b[38;5;28;43mint\u001b[39;49m\u001b[43m(\u001b[49m\u001b[43mc\u001b[49m\u001b[43m)\u001b[49m\n",
      "\u001b[0;31mValueError\u001b[0m: invalid literal for int() with base 10: 'Abdul'"
     ]
    }
   ],
   "source": [
    "# String to integer/float == Nope\n",
    "q = int(c)"
   ]
  },
  {
   "cell_type": "code",
   "execution_count": 70,
   "id": "98a614d3-ecaf-4cb4-a98e-c08efb205480",
   "metadata": {},
   "outputs": [
    {
     "name": "stdout",
     "output_type": "stream",
     "text": [
      "<class 'float'>\n"
     ]
    }
   ],
   "source": [
    "# Integer to float \n",
    "r = float(a)\n",
    "print(type(r))"
   ]
  },
  {
   "cell_type": "markdown",
   "id": "f99139d0-46d6-49fa-8b0b-bc9fb7ec9f5f",
   "metadata": {},
   "source": [
    "# Input() function\n",
    "\n",
    "It allows the user to take input from the keyboard as a string.\n",
    "\n",
    "* It is important to note that the output of input is always a string (even is a number is entered)."
   ]
  },
  {
   "cell_type": "code",
   "execution_count": 76,
   "id": "09a591c7-83e5-44ee-94da-5910d803b307",
   "metadata": {},
   "outputs": [
    {
     "name": "stdin",
     "output_type": "stream",
     "text": [
      "Enter your name !! Abdul Quadir\n"
     ]
    }
   ],
   "source": [
    "your_name = input(\"Enter your name !!\")"
   ]
  },
  {
   "cell_type": "code",
   "execution_count": 77,
   "id": "877acf04-8fa4-44f8-929f-fbad3a58a51f",
   "metadata": {},
   "outputs": [
    {
     "name": "stdout",
     "output_type": "stream",
     "text": [
      "Abdul Quadir\n"
     ]
    }
   ],
   "source": [
    "print(your_name)"
   ]
  },
  {
   "cell_type": "code",
   "execution_count": 78,
   "id": "bae186ac-1f66-4855-857f-70a4d0909882",
   "metadata": {},
   "outputs": [
    {
     "name": "stdout",
     "output_type": "stream",
     "text": [
      "<class 'str'>\n"
     ]
    }
   ],
   "source": [
    "print(type(your_name))"
   ]
  },
  {
   "cell_type": "code",
   "execution_count": 79,
   "id": "c2432000-d29c-4df5-bbdf-cbe79d524507",
   "metadata": {},
   "outputs": [
    {
     "name": "stdin",
     "output_type": "stream",
     "text": [
      "Enter your age !! 29\n"
     ]
    }
   ],
   "source": [
    "your_age = input(\"Enter your age !!\")"
   ]
  },
  {
   "cell_type": "code",
   "execution_count": 80,
   "id": "239b6e84-7ad6-4c7c-b22e-bba53bc48689",
   "metadata": {},
   "outputs": [
    {
     "name": "stdout",
     "output_type": "stream",
     "text": [
      "29\n"
     ]
    }
   ],
   "source": [
    "print(your_age)"
   ]
  },
  {
   "cell_type": "code",
   "execution_count": 81,
   "id": "d8adb566-61e6-4d17-a59f-c9b2f5b258e7",
   "metadata": {},
   "outputs": [
    {
     "name": "stdout",
     "output_type": "stream",
     "text": [
      "<class 'str'>\n"
     ]
    }
   ],
   "source": [
    "print(type(your_age))"
   ]
  },
  {
   "cell_type": "markdown",
   "id": "12128db1-d0a4-4972-9d1b-54f210778c65",
   "metadata": {},
   "source": [
    "# Strings\n",
    "* String is a data type in python.\n",
    "* String is a sequence of characters enclosed in quotes."
   ]
  },
  {
   "cell_type": "code",
   "execution_count": 84,
   "id": "a93a99ee-3435-4553-a8af-abcff5dcdfaa",
   "metadata": {},
   "outputs": [],
   "source": [
    "#We can primarily write a string in these three ways.\n",
    "your_name1 = 'Abdul'   # Single quoted string\n",
    "your_name2 = \"Abdul\"   # Double quoted string\n",
    "your_name3 = '''Abdul'''  # Triple quoted string"
   ]
  },
  {
   "cell_type": "markdown",
   "id": "d4f7ab35-5b0b-45b4-a108-83be31b47ac2",
   "metadata": {},
   "source": [
    "### String Slicing\n",
    "\n",
    "A string in python can be sliced for getting a part of the strings"
   ]
  },
  {
   "cell_type": "code",
   "execution_count": 86,
   "id": "21ee736c-7ea5-4134-8854-7d1ccde697e4",
   "metadata": {},
   "outputs": [],
   "source": [
    "dept = 'physics'"
   ]
  },
  {
   "cell_type": "markdown",
   "id": "19a46ed9-48d5-4d2b-a8da-8dd55105a6f1",
   "metadata": {},
   "source": [
    "### Slicing with skip value\n",
    "We can provide a skip value as a part of our slice"
   ]
  },
  {
   "cell_type": "code",
   "execution_count": 89,
   "id": "f400ab9c-ee0a-429b-a68d-0473cfee9a77",
   "metadata": {},
   "outputs": [],
   "source": [
    "univ = 'university'"
   ]
  },
  {
   "cell_type": "code",
   "execution_count": 97,
   "id": "a4a0937d-24d9-4bc7-8693-eeb374b1184e",
   "metadata": {},
   "outputs": [
    {
     "data": {
      "text/plain": [
       "'uiest'"
      ]
     },
     "execution_count": 97,
     "metadata": {},
     "output_type": "execute_result"
    }
   ],
   "source": [
    "univ[::2]"
   ]
  },
  {
   "cell_type": "markdown",
   "id": "51677ade-eed3-4208-bda9-bdc3326bbb45",
   "metadata": {},
   "source": [
    "## String Functions\n",
    "\n",
    "* len() function ==> It returns the length of the strings.\n",
    "* str.count() ==> It counts the total number of occurrences of any character.\n",
    "* str.find() ==> This function friends a word and returns the index of first occurrence of that word in the string.\n",
    "* str.replace(old word, new word) ==> It replace the old word with new word in the entire string. \n",
    "* str.endswith(\"ty\") ==> It tells whether the variable string ends with the string \"ty\" or not."
   ]
  },
  {
   "cell_type": "code",
   "execution_count": 98,
   "id": "81435be0-c9d7-410d-805a-7931d8a453aa",
   "metadata": {},
   "outputs": [],
   "source": [
    "univ_name = 'Aligarh Muslim University'"
   ]
  },
  {
   "cell_type": "code",
   "execution_count": 99,
   "id": "450ed681-8394-4373-a1ca-8aeea5d0834c",
   "metadata": {},
   "outputs": [
    {
     "name": "stdout",
     "output_type": "stream",
     "text": [
      "25\n"
     ]
    }
   ],
   "source": [
    "# len() function ==> It returns the length of the strings\n",
    "print(len(univ_name))"
   ]
  },
  {
   "cell_type": "code",
   "execution_count": 102,
   "id": "6c6d2bbd-af90-477c-8a6e-db76cc4436a8",
   "metadata": {},
   "outputs": [
    {
     "data": {
      "text/plain": [
       "4"
      ]
     },
     "execution_count": 102,
     "metadata": {},
     "output_type": "execute_result"
    }
   ],
   "source": [
    "# str.count() ==> It counts the total number of occurrences of any character\n",
    "univ_name.count('i')"
   ]
  },
  {
   "cell_type": "code",
   "execution_count": 104,
   "id": "1b379c4f-da1f-439c-9b70-db285ce58d55",
   "metadata": {},
   "outputs": [
    {
     "data": {
      "text/plain": [
       "2"
      ]
     },
     "execution_count": 104,
     "metadata": {},
     "output_type": "execute_result"
    }
   ],
   "source": [
    "# str.find() ==> This function friends a word and returns the index of first occurrence of that word in the string\n",
    "univ_name.find('i')"
   ]
  },
  {
   "cell_type": "code",
   "execution_count": 108,
   "id": "54f720d2-5fe3-4280-a21e-98b3e6382c8c",
   "metadata": {},
   "outputs": [
    {
     "data": {
      "text/plain": [
       "'Aligarh_Muslim_University'"
      ]
     },
     "execution_count": 108,
     "metadata": {},
     "output_type": "execute_result"
    }
   ],
   "source": [
    "# str.replace(old word, new word) ==> It replace the old word with new word in the entire string.\n",
    "univ_name.replace(' ','_')"
   ]
  },
  {
   "cell_type": "code",
   "execution_count": 109,
   "id": "0a3f0df9-16b9-4177-8460-84eb5dc68971",
   "metadata": {},
   "outputs": [
    {
     "data": {
      "text/plain": [
       "True"
      ]
     },
     "execution_count": 109,
     "metadata": {},
     "output_type": "execute_result"
    }
   ],
   "source": [
    "# str.endswith(\"ty\") ==> It tells whether the variable string ends with the string \"ty\" or not.\n",
    "univ_name.endswith('ty')"
   ]
  },
  {
   "cell_type": "code",
   "execution_count": 110,
   "id": "fefe42bb-e7f3-4f90-a93c-522d6d49916d",
   "metadata": {},
   "outputs": [
    {
     "data": {
      "text/plain": [
       "False"
      ]
     },
     "execution_count": 110,
     "metadata": {},
     "output_type": "execute_result"
    }
   ],
   "source": [
    "univ_name.endswith('tty')"
   ]
  },
  {
   "cell_type": "markdown",
   "id": "d2d7912a-95e4-43ec-bc9c-32095251fedd",
   "metadata": {},
   "source": [
    "## Escape Sequence Characters\n",
    "\n",
    "Escape Sequence characters comprise of more than one character but represent one character when used within the strings.\n"
   ]
  },
  {
   "cell_type": "markdown",
   "id": "b866d75a-4c97-4fab-aaf7-1d36092f6714",
   "metadata": {},
   "source": []
  },
  {
   "cell_type": "markdown",
   "id": "447fd8d0-245b-4291-8d71-0523e8cdb05a",
   "metadata": {},
   "source": [
    "# Practice Problem"
   ]
  },
  {
   "cell_type": "markdown",
   "id": "40b3d8ae-cdf3-4ff1-ab66-1f8035b5ac5a",
   "metadata": {},
   "source": [
    "#### Write a python program to display a user entered name followed by Good Morning using input () function."
   ]
  },
  {
   "cell_type": "code",
   "execution_count": null,
   "id": "5f402bb7-c46e-4f72-adc8-e9e28a3c2def",
   "metadata": {},
   "outputs": [],
   "source": []
  }
 ],
 "metadata": {
  "kernelspec": {
   "display_name": "py311",
   "language": "python",
   "name": "py311"
  },
  "language_info": {
   "codemirror_mode": {
    "name": "ipython",
    "version": 3
   },
   "file_extension": ".py",
   "mimetype": "text/x-python",
   "name": "python",
   "nbconvert_exporter": "python",
   "pygments_lexer": "ipython3",
   "version": "3.11.9"
  }
 },
 "nbformat": 4,
 "nbformat_minor": 5
}
