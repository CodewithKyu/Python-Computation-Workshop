{
 "cells": [
  {
   "cell_type": "markdown",
   "id": "011ab98f-7314-4b26-9157-61a876928ce5",
   "metadata": {},
   "source": [
    "# List and Tuples"
   ]
  },
  {
   "cell_type": "markdown",
   "id": "0e011c7b-98b4-4469-b8e0-3323350c8d84",
   "metadata": {},
   "source": [
    "### List\n",
    "containers to store a set of values of any data type."
   ]
  },
  {
   "cell_type": "code",
   "execution_count": 3,
   "id": "0d74d877-53e7-4f54-963b-f6f420f6bf0d",
   "metadata": {},
   "outputs": [],
   "source": [
    "list1 = ['apple', 'lion', 7, 3.14, False]"
   ]
  },
  {
   "cell_type": "markdown",
   "id": "ecf0b118-5040-4f51-a0e8-fc34109c75b7",
   "metadata": {},
   "source": [
    "#### List Indexing\n",
    "\n",
    "just like a string"
   ]
  },
  {
   "cell_type": "markdown",
   "id": "2bbbc66e-e00c-4470-9322-e0bf9be7ce52",
   "metadata": {},
   "source": [
    "#### List Methods"
   ]
  },
  {
   "cell_type": "code",
   "execution_count": 20,
   "id": "3aae2309-dc7b-4d74-a0c9-8614b8e4796b",
   "metadata": {},
   "outputs": [
    {
     "name": "stdout",
     "output_type": "stream",
     "text": [
      "[2, 4, 5, 5, 6, 6, 72]\n"
     ]
    }
   ],
   "source": [
    "list1 = [4,5,6,2,6,72,5]\n",
    "# sort()\n",
    "list1.sort()\n",
    "print(list1)"
   ]
  },
  {
   "cell_type": "code",
   "execution_count": 21,
   "id": "4b0e574c-c6ea-4578-8647-583282327204",
   "metadata": {},
   "outputs": [
    {
     "name": "stdout",
     "output_type": "stream",
     "text": [
      "[5, 72, 6, 2, 6, 5, 4]\n"
     ]
    }
   ],
   "source": [
    "list1 = [4,5,6,2,6,72,5]\n",
    "# reverse()\n",
    "list1.reverse()\n",
    "print(list1)"
   ]
  },
  {
   "cell_type": "code",
   "execution_count": 22,
   "id": "94c041cd-f2c0-4744-90e2-331419a66c99",
   "metadata": {},
   "outputs": [
    {
     "name": "stdout",
     "output_type": "stream",
     "text": [
      "[4, 5, 6, 2, 6, 72, 5, 100]\n"
     ]
    }
   ],
   "source": [
    "list1 = [4,5,6,2,6,72,5]\n",
    "# append()\n",
    "list1.append(100)\n",
    "print(list1)"
   ]
  },
  {
   "cell_type": "code",
   "execution_count": 25,
   "id": "f0183ef8-7e48-4167-be02-97168e5b8304",
   "metadata": {},
   "outputs": [
    {
     "name": "stdout",
     "output_type": "stream",
     "text": [
      "[4, 5, 6, 2, 100, 6, 72, 5]\n"
     ]
    }
   ],
   "source": [
    "list1 = [4,5,6,2,6,72,5]\n",
    "# insert()\n",
    "list1.insert(4,100)\n",
    "print(list1)"
   ]
  },
  {
   "cell_type": "code",
   "execution_count": 27,
   "id": "6b3cf772-54f4-4c03-b38d-33ef78b523c9",
   "metadata": {},
   "outputs": [
    {
     "name": "stdout",
     "output_type": "stream",
     "text": [
      "[4, 5, 6, 2, 72, 5]\n"
     ]
    }
   ],
   "source": [
    "list1 = [4,5,6,2,6,72,5]\n",
    "# pop()\n",
    "list1.pop(4)\n",
    "print(list1)"
   ]
  },
  {
   "cell_type": "code",
   "execution_count": 31,
   "id": "0da88bb6-cf87-4fdf-9c89-8dcbd5c98e0e",
   "metadata": {},
   "outputs": [
    {
     "name": "stdout",
     "output_type": "stream",
     "text": [
      "[4, 6, 2, 6, 72, 5]\n"
     ]
    }
   ],
   "source": [
    "list1 = [4,5,6,2,6,72,5]\n",
    "# remove()\n",
    "list1.remove(5)\n",
    "print(list1)"
   ]
  },
  {
   "cell_type": "markdown",
   "id": "a3fe441e-3927-4c94-b2e4-d0186928b9e2",
   "metadata": {},
   "source": [
    "### Tuples in python\n",
    "\n",
    "A tuple is an immutable data type in python."
   ]
  },
  {
   "cell_type": "code",
   "execution_count": 32,
   "id": "10cfc26d-fefe-47f6-8e6d-dd9b6b8f92cb",
   "metadata": {},
   "outputs": [],
   "source": [
    "a = () # empty tuple\n",
    "a = (2,) # tuple with only one element needs a comma\n",
    "a = (2,3,7) # tuple with more than one element"
   ]
  },
  {
   "cell_type": "markdown",
   "id": "478a6458-b14d-44d1-8551-d5ca86dee0cb",
   "metadata": {},
   "source": [
    "### Tuple Methods"
   ]
  },
  {
   "cell_type": "code",
   "execution_count": 33,
   "id": "79f84989-d241-4d14-bb82-3a67aec2b401",
   "metadata": {},
   "outputs": [
    {
     "data": {
      "text/plain": [
       "2"
      ]
     },
     "execution_count": 33,
     "metadata": {},
     "output_type": "execute_result"
    }
   ],
   "source": [
    "a = (4,5,6,2,6,72,5)\n",
    "a.count(5)"
   ]
  },
  {
   "cell_type": "code",
   "execution_count": 35,
   "id": "71add647-e84c-4a07-b13e-5049272c5c4b",
   "metadata": {},
   "outputs": [
    {
     "data": {
      "text/plain": [
       "1"
      ]
     },
     "execution_count": 35,
     "metadata": {},
     "output_type": "execute_result"
    }
   ],
   "source": [
    "a.index (5)"
   ]
  },
  {
   "cell_type": "code",
   "execution_count": null,
   "id": "7871c5db-d34d-4152-b448-4f8b770ff95f",
   "metadata": {},
   "outputs": [],
   "source": []
  },
  {
   "cell_type": "code",
   "execution_count": null,
   "id": "776ae9df-627e-4a7f-a14d-ed339c823f3e",
   "metadata": {},
   "outputs": [],
   "source": []
  },
  {
   "cell_type": "code",
   "execution_count": null,
   "id": "a35cba51-aff2-4628-9105-d08bafea21e2",
   "metadata": {},
   "outputs": [],
   "source": []
  },
  {
   "cell_type": "code",
   "execution_count": null,
   "id": "efd447a4-3d51-4f0b-bc52-14a64d263efd",
   "metadata": {},
   "outputs": [],
   "source": []
  }
 ],
 "metadata": {
  "kernelspec": {
   "display_name": "py311",
   "language": "python",
   "name": "py311"
  },
  "language_info": {
   "codemirror_mode": {
    "name": "ipython",
    "version": 3
   },
   "file_extension": ".py",
   "mimetype": "text/x-python",
   "name": "python",
   "nbconvert_exporter": "python",
   "pygments_lexer": "ipython3",
   "version": "3.11.9"
  }
 },
 "nbformat": 4,
 "nbformat_minor": 5
}
