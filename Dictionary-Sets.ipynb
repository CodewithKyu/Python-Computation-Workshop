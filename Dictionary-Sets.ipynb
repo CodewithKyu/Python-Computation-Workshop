{
 "cells": [
  {
   "cell_type": "markdown",
   "id": "c476f994-dcef-45dc-9ecc-94321f48a668",
   "metadata": {},
   "source": [
    "# Dictionary and Sets"
   ]
  },
  {
   "cell_type": "markdown",
   "id": "4503338f-b7c7-41b7-b8c0-8fbc38dca715",
   "metadata": {},
   "source": [
    "## Dictionary\n",
    "\n",
    "Dictionary is a collection of keys-value pairs\n",
    "\n",
    "### Properties of Python Dictionaries\n",
    "1. It is unordered.\n",
    "2. It is mutable.\n",
    "3. It is indexed.\n",
    "4. Cannot contain duplicate keys."
   ]
  },
  {
   "cell_type": "code",
   "execution_count": 30,
   "id": "e720f4e5-6b87-497e-9aa6-46f40f1a3a8f",
   "metadata": {},
   "outputs": [],
   "source": [
    "# Empty dictionary\n",
    "empty_dict = {}\n",
    "\n",
    "# Dictionary with key-value pairs\n",
    "student = {\n",
    "    \"name\": \"Alicia\",\n",
    "    \"age\": 20,\n",
    "    \"grade\": \"A\",\n",
    "    \"subjects\": [\"Math\", \"Physics\", \"Chemistry\"]\n",
    "}\n",
    "\n",
    "# Using dict() constructor\n",
    "person = dict(name=\"Samsa\", age=25, city=\"New York\")"
   ]
  },
  {
   "cell_type": "code",
   "execution_count": 31,
   "id": "1c6aa995-501c-47f4-b18b-549c2588c7a4",
   "metadata": {},
   "outputs": [
    {
     "name": "stdout",
     "output_type": "stream",
     "text": [
      "{}\n"
     ]
    }
   ],
   "source": [
    "print(empty_dict)"
   ]
  },
  {
   "cell_type": "code",
   "execution_count": 32,
   "id": "df31af40-266b-4f4e-ab71-2c406008ea06",
   "metadata": {},
   "outputs": [
    {
     "name": "stdout",
     "output_type": "stream",
     "text": [
      "{'name': 'Alicia', 'age': 20, 'grade': 'A', 'subjects': ['Math', 'Physics', 'Chemistry']}\n"
     ]
    }
   ],
   "source": [
    "print(student)"
   ]
  },
  {
   "cell_type": "code",
   "execution_count": 33,
   "id": "440591ff-a90e-4449-bf8d-1d9546bb51bd",
   "metadata": {},
   "outputs": [
    {
     "name": "stdout",
     "output_type": "stream",
     "text": [
      "{'name': 'Samsa', 'age': 25, 'city': 'New York'}\n"
     ]
    }
   ],
   "source": [
    "print(person)"
   ]
  },
  {
   "cell_type": "markdown",
   "id": "113ab34e-a8ea-4727-99d0-281feb01411e",
   "metadata": {},
   "source": [
    "### Dictionary Methods\n",
    "\n"
   ]
  },
  {
   "cell_type": "code",
   "execution_count": 46,
   "id": "ef1d996d-5eca-4f65-a909-052c86243d07",
   "metadata": {},
   "outputs": [],
   "source": [
    "a = {\n",
    "    \"name\": \"Abdul\",\n",
    "    \"age\": 29,\n",
    "    \"Education\": \"PhD\",\n",
    "    \"University\": \"AMU\",\n",
    "    \"Subject\": \"Physics\", \n",
    "}"
   ]
  },
  {
   "cell_type": "code",
   "execution_count": 47,
   "id": "f9bf39b4-f5e3-4794-9ac2-a431964e65dd",
   "metadata": {},
   "outputs": [
    {
     "name": "stdout",
     "output_type": "stream",
     "text": [
      "{'name': 'Abdul', 'age': 29, 'Education': 'PhD', 'University': 'AMU', 'Subject': 'Physics'}\n"
     ]
    }
   ],
   "source": [
    "print(a)"
   ]
  },
  {
   "cell_type": "code",
   "execution_count": 58,
   "id": "eeb34f61-4bc5-43fa-b59a-5cf61504a924",
   "metadata": {},
   "outputs": [
    {
     "name": "stdout",
     "output_type": "stream",
     "text": [
      "<class 'dict'>\n"
     ]
    }
   ],
   "source": [
    "print(type(a))"
   ]
  },
  {
   "cell_type": "code",
   "execution_count": 59,
   "id": "ac1d1006-1033-4b64-8efe-a9860fe53e1e",
   "metadata": {},
   "outputs": [
    {
     "data": {
      "text/plain": [
       "dict_items([('name', 'Abdul'), ('age', 29), ('Education', 'PhD'), ('University', 'AMU'), ('Subject', 'Physics'), ('Friends', ['A', 'B', 'C', 'D'])])"
      ]
     },
     "execution_count": 59,
     "metadata": {},
     "output_type": "execute_result"
    }
   ],
   "source": [
    "#items(): Returns a list of (key,value)tuples.\n",
    "a.items()"
   ]
  },
  {
   "cell_type": "code",
   "execution_count": 60,
   "id": "958c2056-4970-46f6-b642-6d84e748ddb5",
   "metadata": {},
   "outputs": [
    {
     "data": {
      "text/plain": [
       "dict_keys(['name', 'age', 'Education', 'University', 'Subject', 'Friends'])"
      ]
     },
     "execution_count": 60,
     "metadata": {},
     "output_type": "execute_result"
    }
   ],
   "source": [
    "#keys(): Returns a list containing dictionary's keys\n",
    "a.keys()"
   ]
  },
  {
   "cell_type": "code",
   "execution_count": 61,
   "id": "8d09eea2-ce5c-4e5d-b311-1fe74e823b07",
   "metadata": {},
   "outputs": [
    {
     "name": "stdout",
     "output_type": "stream",
     "text": [
      "{'name': 'Abdul', 'age': 29, 'Education': 'PhD', 'University': 'AMU', 'Subject': 'Physics', 'Friends': ['A', 'B', 'C', 'D']}\n"
     ]
    }
   ],
   "source": [
    "# update({\"friends\":}): Updates the dictionary with supplied key-value pairs.\n",
    "a.update({\"Friends\": ['A', 'B', 'C', 'D']})\n",
    "print(a)"
   ]
  },
  {
   "cell_type": "code",
   "execution_count": 62,
   "id": "3ee9fbad-62b0-4bce-8e9a-6d9e07c04946",
   "metadata": {},
   "outputs": [
    {
     "data": {
      "text/plain": [
       "['A', 'B', 'C', 'D']"
      ]
     },
     "execution_count": 62,
     "metadata": {},
     "output_type": "execute_result"
    }
   ],
   "source": [
    "#get(\"name\"): Returns the value of the specified keys (and value is returned).\n",
    "a.get(\"Friends\")"
   ]
  },
  {
   "cell_type": "markdown",
   "id": "2ede78d9-aef9-4672-87da-9c1662496f74",
   "metadata": {},
   "source": [
    "## SETS\n",
    "\n",
    "#### Sets in Python\n",
    "\n",
    "Set is a collection of non-repetitive elements.\n",
    "\n",
    "* If you are a programming beginner without much knowledge of mathematical operations on sets, you can simply look at sets in python as data types containing unique values."
   ]
  },
  {
   "cell_type": "code",
   "execution_count": 68,
   "id": "609d2016-c293-48f8-9679-3460485012ee",
   "metadata": {},
   "outputs": [],
   "source": [
    "s = set() # no repetition allowed!"
   ]
  },
  {
   "cell_type": "code",
   "execution_count": 69,
   "id": "05d9a204-ca29-484b-baa1-b726dadbd5dd",
   "metadata": {},
   "outputs": [],
   "source": [
    "s.add(1)\n",
    "s.add(2)"
   ]
  },
  {
   "cell_type": "code",
   "execution_count": 70,
   "id": "30388064-b5da-4653-abbd-6d65525d6f7e",
   "metadata": {},
   "outputs": [
    {
     "name": "stdout",
     "output_type": "stream",
     "text": [
      "{1, 2}\n"
     ]
    }
   ],
   "source": [
    "print(s)"
   ]
  },
  {
   "cell_type": "code",
   "execution_count": 71,
   "id": "0e42039c-967d-4907-af73-df82f2cd9f8a",
   "metadata": {},
   "outputs": [
    {
     "name": "stdout",
     "output_type": "stream",
     "text": [
      "<class 'set'>\n"
     ]
    }
   ],
   "source": [
    "print(type(s))"
   ]
  },
  {
   "cell_type": "markdown",
   "id": "a058acb5-aca8-4d85-8634-630e4d957076",
   "metadata": {},
   "source": [
    "### Properties of Sets\n",
    "\n",
    "1. Sets are unordered => Element’s order doesn’t matter\n",
    "2. Sets are unindexed => Cannot access elements by index\n",
    "3. There is no way to change items in sets.\n",
    "4. Sets cannot contain duplicate values."
   ]
  },
  {
   "cell_type": "markdown",
   "id": "324e2f64-5c8d-4246-ae81-1eddea0076e8",
   "metadata": {},
   "source": [
    "### Operations in Set\n",
    "\n",
    "* len()\n",
    "* remove()\n",
    "* pop()\n",
    "* clear()\n",
    "* union\n",
    "* intersection()"
   ]
  },
  {
   "cell_type": "code",
   "execution_count": 79,
   "id": "72397cb2-5586-44c5-9a69-0016c8045a1e",
   "metadata": {},
   "outputs": [
    {
     "name": "stdout",
     "output_type": "stream",
     "text": [
      "6\n"
     ]
    }
   ],
   "source": [
    "s = {1,2,3,4,5,6}\n",
    "#len(): the length of the set\n",
    "print(len(s))"
   ]
  },
  {
   "cell_type": "code",
   "execution_count": 80,
   "id": "12af3fcd-0420-4462-ac84-74b1dcc04e64",
   "metadata": {},
   "outputs": [
    {
     "name": "stdout",
     "output_type": "stream",
     "text": [
      "{1, 2, 3, 5, 6}\n"
     ]
    }
   ],
   "source": [
    "s = {1,2,3,4,5,6}\n",
    "#remove(): remove the given element\n",
    "s.remove(4)\n",
    "print(s)"
   ]
  },
  {
   "cell_type": "code",
   "execution_count": 81,
   "id": "9d281d68-738d-4216-a96e-85cfc3efbe6c",
   "metadata": {},
   "outputs": [
    {
     "name": "stdout",
     "output_type": "stream",
     "text": [
      "set()\n"
     ]
    }
   ],
   "source": [
    "s = {1,2,3,4,5,6}\n",
    "#clear(): empties the set\n",
    "s.clear()\n",
    "print(s)"
   ]
  },
  {
   "cell_type": "code",
   "execution_count": 84,
   "id": "98c292e4-c48c-4cb5-aa25-a9001d2d6b7b",
   "metadata": {},
   "outputs": [
    {
     "name": "stdout",
     "output_type": "stream",
     "text": [
      "{1, 2, 3, 4, 5, 6, 11, 12}\n"
     ]
    }
   ],
   "source": [
    "#union(): Returns a new set with all items from both sets\n",
    "s1 = {1,2,3,4,5,6}\n",
    "s2 = {11,12}\n",
    "s3 = s1.union(s2)\n",
    "print(s3)"
   ]
  },
  {
   "cell_type": "code",
   "execution_count": 86,
   "id": "b640f573-aa65-48a2-9b3d-b944535166e6",
   "metadata": {},
   "outputs": [
    {
     "name": "stdout",
     "output_type": "stream",
     "text": [
      "{1, 4}\n"
     ]
    }
   ],
   "source": [
    "# intersection(): Return a set which contains only item in both sets\n",
    "s1 = {1,2,3,4,5,6}\n",
    "s2 = {1, 11,4, 12}\n",
    "s3 = s1.intersection(s2)\n",
    "print(s3)"
   ]
  },
  {
   "cell_type": "code",
   "execution_count": null,
   "id": "20fb143d-bcfb-477f-84c6-0b0a6628b46e",
   "metadata": {},
   "outputs": [],
   "source": []
  }
 ],
 "metadata": {
  "kernelspec": {
   "display_name": "py311",
   "language": "python",
   "name": "py311"
  },
  "language_info": {
   "codemirror_mode": {
    "name": "ipython",
    "version": 3
   },
   "file_extension": ".py",
   "mimetype": "text/x-python",
   "name": "python",
   "nbconvert_exporter": "python",
   "pygments_lexer": "ipython3",
   "version": "3.11.9"
  }
 },
 "nbformat": 4,
 "nbformat_minor": 5
}
