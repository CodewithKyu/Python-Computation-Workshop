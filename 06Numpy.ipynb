{
 "cells": [
  {
   "cell_type": "markdown",
   "id": "15108510-f5a1-463e-9265-2139f7197d5c",
   "metadata": {},
   "source": [
    "# Numpy\n",
    "\n",
    "It is a package for scientific computing\n",
    "1. Multidimensional array\n",
    "2. Methods for processing arrays\n",
    "3. Element by element operations\n",
    "4. Mathematical operations like logical, Fourier transform, shape manipulation, linear algebra and random number generation"
   ]
  },
  {
   "cell_type": "markdown",
   "id": "84dce85b-d63a-4fc1-b371-bad81de49a8b",
   "metadata": {},
   "source": [
    "```python \n",
    "np.array()\n",
    "```"
   ]
  },
  {
   "cell_type": "code",
   "execution_count": 1,
   "id": "c8ec058d-8c2f-4363-aac4-d3f7cbf85dd5",
   "metadata": {},
   "outputs": [],
   "source": [
    "import numpy as np"
   ]
  },
  {
   "cell_type": "code",
   "execution_count": 7,
   "id": "20dea39c-6b71-40ad-b010-1a1e4a1fcd97",
   "metadata": {},
   "outputs": [],
   "source": [
    "# Create a single dimensional array\n",
    "a = np.array([10,39,58])"
   ]
  },
  {
   "cell_type": "code",
   "execution_count": 8,
   "id": "14bc63b5-82c1-42f7-a151-91787f9081e7",
   "metadata": {},
   "outputs": [
    {
     "data": {
      "text/plain": [
       "numpy.ndarray"
      ]
     },
     "execution_count": 8,
     "metadata": {},
     "output_type": "execute_result"
    }
   ],
   "source": [
    "type(a)"
   ]
  },
  {
   "cell_type": "code",
   "execution_count": 9,
   "id": "32b2a9b8-7fe0-4b67-b528-d9bd55a4128c",
   "metadata": {},
   "outputs": [
    {
     "name": "stdout",
     "output_type": "stream",
     "text": [
      "[10 39 58]\n"
     ]
    }
   ],
   "source": [
    "print(a)"
   ]
  },
  {
   "cell_type": "code",
   "execution_count": 10,
   "id": "b0e52b6a-d5b2-4dbe-aabc-a522ffbf7321",
   "metadata": {},
   "outputs": [
    {
     "name": "stdout",
     "output_type": "stream",
     "text": [
      "[[10 20]\n",
      " [30 40]]\n"
     ]
    }
   ],
   "source": [
    "# Create a ndimensional array\n",
    "am = np.array([[10,20], [30,40]])\n",
    "print(am)"
   ]
  },
  {
   "cell_type": "code",
   "execution_count": 15,
   "id": "15c5be00-5494-4054-8065-636f74188ef2",
   "metadata": {},
   "outputs": [
    {
     "data": {
      "text/plain": [
       "(list, [1, 2, 3, 4, 5])"
      ]
     },
     "execution_count": 15,
     "metadata": {},
     "output_type": "execute_result"
    }
   ],
   "source": [
    "# Create a ndarray by wrapping a list\n",
    "l = [1,2,3,4,5]\n",
    "type(l),l"
   ]
  },
  {
   "cell_type": "code",
   "execution_count": 12,
   "id": "84aab26e-ced5-43ae-b4ca-57b68ebcc783",
   "metadata": {},
   "outputs": [],
   "source": [
    "array = np.array(l)"
   ]
  },
  {
   "cell_type": "code",
   "execution_count": 13,
   "id": "bf4efba3-404c-4d6b-bc7a-2933d00ada4c",
   "metadata": {},
   "outputs": [
    {
     "data": {
      "text/plain": [
       "numpy.ndarray"
      ]
     },
     "execution_count": 13,
     "metadata": {},
     "output_type": "execute_result"
    }
   ],
   "source": [
    "type(array)"
   ]
  },
  {
   "cell_type": "code",
   "execution_count": 14,
   "id": "2f4bd13c-58f3-4fdb-b5e7-a1f7ba14a43d",
   "metadata": {},
   "outputs": [
    {
     "name": "stdout",
     "output_type": "stream",
     "text": [
      "[1 2 3 4 5]\n"
     ]
    }
   ],
   "source": [
    "print(array)"
   ]
  },
  {
   "cell_type": "code",
   "execution_count": 18,
   "id": "48176962-4a99-4df6-b91e-00fd69d42488",
   "metadata": {},
   "outputs": [
    {
     "name": "stdout",
     "output_type": "stream",
     "text": [
      "[ 1  2  3  4  5  6  7  8  9 10 11 12 13 14 15 16 17 18 19]\n"
     ]
    }
   ],
   "source": [
    "# Another way to create an array\n",
    "ar = np.arange(1,20)\n",
    "print(ar)"
   ]
  },
  {
   "cell_type": "markdown",
   "id": "e6f87e44-5fbc-4c77-9101-5541a46dcfd2",
   "metadata": {},
   "source": [
    "```python \n",
    "numpy.arange() \n",
    "``` \n",
    "A function within the NumPy library in Python used to create an array of evenly spaced values within a specified interval. \n",
    "#### Syntax\n",
    "```python \n",
    "numpy.arange([start, ]stop, [step, ], dtype=None)\n",
    "```"
   ]
  },
  {
   "cell_type": "code",
   "execution_count": 22,
   "id": "acb7de11-c3d7-455b-8d06-e9f1e0c01c98",
   "metadata": {},
   "outputs": [
    {
     "name": "stdout",
     "output_type": "stream",
     "text": [
      "[ 1.   1.5  2.   2.5  3.   3.5  4.   4.5  5.   5.5  6.   6.5  7.   7.5\n",
      "  8.   8.5  9.   9.5 10.  10.5 11.  11.5 12.  12.5 13.  13.5 14.  14.5\n",
      " 15.  15.5 16.  16.5 17.  17.5 18.  18.5 19.  19.5]\n"
     ]
    }
   ],
   "source": [
    "ar = np.arange(1,20, 0.5)\n",
    "print(ar)"
   ]
  },
  {
   "cell_type": "code",
   "execution_count": 24,
   "id": "f9674a96-cf70-4ab7-8f50-96a6b1c37f96",
   "metadata": {},
   "outputs": [
    {
     "name": "stdout",
     "output_type": "stream",
     "text": [
      "[[0. 0. 0. 0. 0.]\n",
      " [0. 0. 0. 0. 0.]\n",
      " [0. 0. 0. 0. 0.]\n",
      " [0. 0. 0. 0. 0.]\n",
      " [0. 0. 0. 0. 0.]]\n"
     ]
    }
   ],
   "source": [
    "# Create a 5x5 array of zeros\n",
    "array_zeros = np.zeros((5,5))\n",
    "print(array_zeros)"
   ]
  },
  {
   "cell_type": "markdown",
   "id": "3976abc1-c573-4744-affc-8129b33d48e2",
   "metadata": {},
   "source": [
    "#### Create a lineary spaced vector\n",
    "```python \n",
    "np.linspace(start, stop, num, endpoint, retstep, dtype)\n",
    "```"
   ]
  },
  {
   "cell_type": "code",
   "execution_count": 35,
   "id": "0b199b0a-81aa-4454-a839-291f3793e32b",
   "metadata": {},
   "outputs": [
    {
     "name": "stdout",
     "output_type": "stream",
     "text": [
      "[ 0.          0.52631579  1.05263158  1.57894737  2.10526316  2.63157895\n",
      "  3.15789474  3.68421053  4.21052632  4.73684211  5.26315789  5.78947368\n",
      "  6.31578947  6.84210526  7.36842105  7.89473684  8.42105263  8.94736842\n",
      "  9.47368421 10.        ]\n"
     ]
    }
   ],
   "source": [
    "# Example\n",
    "data = np.linspace(0,10, 20)\n",
    "print(data)"
   ]
  },
  {
   "cell_type": "markdown",
   "id": "9fd31802-8534-480a-b8a5-2f1d5a5e6267",
   "metadata": {},
   "source": [
    "#### Convert a linear array into 2D or 3D dimensional array"
   ]
  },
  {
   "cell_type": "markdown",
   "id": "c747eb12-a0dc-4e19-a1d7-8cc75d1ab465",
   "metadata": {},
   "source": [
    "#### Convert a linear array into 2D or 3D array\n"
   ]
  },
  {
   "cell_type": "code",
   "execution_count": 39,
   "id": "0a82fd2f-5f09-4119-9a2e-aaf4785bd9ac",
   "metadata": {},
   "outputs": [
    {
     "name": "stdout",
     "output_type": "stream",
     "text": [
      "C-order reshape: \n",
      "[[0 1 2]\n",
      " [3 4 5]]\n",
      "F-order reshape: \n",
      "[[0 2 4]\n",
      " [1 3 5]]\n",
      "A-order reshape: \n",
      "[[0 2 4]\n",
      " [1 3 5]]\n"
     ]
    }
   ],
   "source": [
    "    import numpy as np\n",
    "\n",
    "    arr_c = np.arange(6).reshape((2, 3), order='C')\n",
    "    print(f\"C-order reshape: \\n{arr_c}\")\n",
    "\n",
    "    arr_f = np.arange(6).reshape((2, 3), order='F')\n",
    "    print(f\"F-order reshape: \\n{arr_f}\")\n",
    "\n",
    "    arr_a = np.arange(6).reshape((2, 3), order='A')\n",
    "    print(f\"A-order reshape: \\n{arr_f}\")"
   ]
  },
  {
   "cell_type": "code",
   "execution_count": null,
   "id": "1f72a2dd-bf2f-45fb-bb9e-87056ebf7218",
   "metadata": {},
   "outputs": [],
   "source": []
  }
 ],
 "metadata": {
  "kernelspec": {
   "display_name": "py311",
   "language": "python",
   "name": "py311"
  },
  "language_info": {
   "codemirror_mode": {
    "name": "ipython",
    "version": 3
   },
   "file_extension": ".py",
   "mimetype": "text/x-python",
   "name": "python",
   "nbconvert_exporter": "python",
   "pygments_lexer": "ipython3",
   "version": "3.11.9"
  }
 },
 "nbformat": 4,
 "nbformat_minor": 5
}
