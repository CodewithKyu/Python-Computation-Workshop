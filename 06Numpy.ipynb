{
 "cells": [
  {
   "cell_type": "markdown",
   "id": "15108510-f5a1-463e-9265-2139f7197d5c",
   "metadata": {},
   "source": [
    "# Numpy\n",
    "\n",
    "It is a package for scientific computing\n",
    "1. Multidimensional array\n",
    "2. Methods for processing arrays\n",
    "3. Element by element operations\n",
    "4. Mathematical operations like logical, Fourier transform, shape manipulation, linear algebra and random number generation"
   ]
  },
  {
   "cell_type": "markdown",
   "id": "84dce85b-d63a-4fc1-b371-bad81de49a8b",
   "metadata": {},
   "source": [
    "```python \n",
    "np.array()\n",
    "```"
   ]
  },
  {
   "cell_type": "code",
   "execution_count": 1,
   "id": "c8ec058d-8c2f-4363-aac4-d3f7cbf85dd5",
   "metadata": {},
   "outputs": [],
   "source": [
    "import numpy as np"
   ]
  },
  {
   "cell_type": "code",
   "execution_count": 2,
   "id": "20dea39c-6b71-40ad-b010-1a1e4a1fcd97",
   "metadata": {},
   "outputs": [],
   "source": [
    "# Create a single dimensional array\n",
    "a = np.array([10,39,58])"
   ]
  },
  {
   "cell_type": "code",
   "execution_count": 3,
   "id": "14bc63b5-82c1-42f7-a151-91787f9081e7",
   "metadata": {},
   "outputs": [
    {
     "data": {
      "text/plain": [
       "numpy.ndarray"
      ]
     },
     "execution_count": 3,
     "metadata": {},
     "output_type": "execute_result"
    }
   ],
   "source": [
    "type(a)"
   ]
  },
  {
   "cell_type": "code",
   "execution_count": 4,
   "id": "32b2a9b8-7fe0-4b67-b528-d9bd55a4128c",
   "metadata": {},
   "outputs": [
    {
     "name": "stdout",
     "output_type": "stream",
     "text": [
      "[10 39 58]\n"
     ]
    }
   ],
   "source": [
    "print(a)"
   ]
  },
  {
   "cell_type": "code",
   "execution_count": 5,
   "id": "b0e52b6a-d5b2-4dbe-aabc-a522ffbf7321",
   "metadata": {},
   "outputs": [
    {
     "name": "stdout",
     "output_type": "stream",
     "text": [
      "[[10 20]\n",
      " [30 40]]\n"
     ]
    }
   ],
   "source": [
    "# Create a ndimensional array\n",
    "am = np.array([[10,20], [30,40]])\n",
    "print(am)"
   ]
  },
  {
   "cell_type": "code",
   "execution_count": 6,
   "id": "15c5be00-5494-4054-8065-636f74188ef2",
   "metadata": {},
   "outputs": [
    {
     "data": {
      "text/plain": [
       "(list, [1, 2, 3, 4, 5])"
      ]
     },
     "execution_count": 6,
     "metadata": {},
     "output_type": "execute_result"
    }
   ],
   "source": [
    "# Create a ndarray by wrapping a list\n",
    "l = [1,2,3,4,5]\n",
    "type(l),l"
   ]
  },
  {
   "cell_type": "code",
   "execution_count": 7,
   "id": "84aab26e-ced5-43ae-b4ca-57b68ebcc783",
   "metadata": {},
   "outputs": [],
   "source": [
    "array = np.array(l)"
   ]
  },
  {
   "cell_type": "code",
   "execution_count": 8,
   "id": "bf4efba3-404c-4d6b-bc7a-2933d00ada4c",
   "metadata": {},
   "outputs": [
    {
     "data": {
      "text/plain": [
       "numpy.ndarray"
      ]
     },
     "execution_count": 8,
     "metadata": {},
     "output_type": "execute_result"
    }
   ],
   "source": [
    "type(array)"
   ]
  },
  {
   "cell_type": "code",
   "execution_count": 9,
   "id": "2f4bd13c-58f3-4fdb-b5e7-a1f7ba14a43d",
   "metadata": {},
   "outputs": [
    {
     "name": "stdout",
     "output_type": "stream",
     "text": [
      "[1 2 3 4 5]\n"
     ]
    }
   ],
   "source": [
    "print(array)"
   ]
  },
  {
   "cell_type": "code",
   "execution_count": 10,
   "id": "48176962-4a99-4df6-b91e-00fd69d42488",
   "metadata": {},
   "outputs": [
    {
     "name": "stdout",
     "output_type": "stream",
     "text": [
      "[ 1  2  3  4  5  6  7  8  9 10 11 12 13 14 15 16 17 18 19]\n"
     ]
    }
   ],
   "source": [
    "# Another way to create an array\n",
    "ar = np.arange(1,20)\n",
    "print(ar)"
   ]
  },
  {
   "cell_type": "markdown",
   "id": "e6f87e44-5fbc-4c77-9101-5541a46dcfd2",
   "metadata": {},
   "source": [
    "```python \n",
    "numpy.arange() \n",
    "``` \n",
    "A function within the NumPy library in Python used to create an array of evenly spaced values within a specified interval. \n",
    "#### Syntax\n",
    "```python \n",
    "numpy.arange([start, ]stop, [step, ], dtype=None)\n",
    "```"
   ]
  },
  {
   "cell_type": "code",
   "execution_count": 11,
   "id": "acb7de11-c3d7-455b-8d06-e9f1e0c01c98",
   "metadata": {},
   "outputs": [
    {
     "name": "stdout",
     "output_type": "stream",
     "text": [
      "[ 1.   1.5  2.   2.5  3.   3.5  4.   4.5  5.   5.5  6.   6.5  7.   7.5\n",
      "  8.   8.5  9.   9.5 10.  10.5 11.  11.5 12.  12.5 13.  13.5 14.  14.5\n",
      " 15.  15.5 16.  16.5 17.  17.5 18.  18.5 19.  19.5]\n"
     ]
    }
   ],
   "source": [
    "ar = np.arange(1,20, 0.5)\n",
    "print(ar)"
   ]
  },
  {
   "cell_type": "code",
   "execution_count": 12,
   "id": "f9674a96-cf70-4ab7-8f50-96a6b1c37f96",
   "metadata": {},
   "outputs": [
    {
     "name": "stdout",
     "output_type": "stream",
     "text": [
      "[[0. 0. 0. 0. 0.]\n",
      " [0. 0. 0. 0. 0.]\n",
      " [0. 0. 0. 0. 0.]\n",
      " [0. 0. 0. 0. 0.]\n",
      " [0. 0. 0. 0. 0.]]\n"
     ]
    }
   ],
   "source": [
    "# Create a 5x5 array of zeros\n",
    "array_zeros = np.zeros((5,5))\n",
    "print(array_zeros)"
   ]
  },
  {
   "cell_type": "markdown",
   "id": "3976abc1-c573-4744-affc-8129b33d48e2",
   "metadata": {},
   "source": [
    "#### Create a lineary spaced vector\n",
    "```python \n",
    "np.linspace(start, stop, num, endpoint, retstep, dtype)\n",
    "```"
   ]
  },
  {
   "cell_type": "code",
   "execution_count": 13,
   "id": "0b199b0a-81aa-4454-a839-291f3793e32b",
   "metadata": {},
   "outputs": [
    {
     "name": "stdout",
     "output_type": "stream",
     "text": [
      "[ 0.          0.52631579  1.05263158  1.57894737  2.10526316  2.63157895\n",
      "  3.15789474  3.68421053  4.21052632  4.73684211  5.26315789  5.78947368\n",
      "  6.31578947  6.84210526  7.36842105  7.89473684  8.42105263  8.94736842\n",
      "  9.47368421 10.        ]\n"
     ]
    }
   ],
   "source": [
    "# Example\n",
    "data = np.linspace(0,10, 20)\n",
    "print(data)"
   ]
  },
  {
   "cell_type": "markdown",
   "id": "c747eb12-a0dc-4e19-a1d7-8cc75d1ab465",
   "metadata": {},
   "source": [
    "#### Convert a linear array into 2D or 3D array\n"
   ]
  },
  {
   "cell_type": "code",
   "execution_count": 15,
   "id": "8fb2d963-eed1-4e48-90fa-904c5895f8fc",
   "metadata": {},
   "outputs": [
    {
     "name": "stdout",
     "output_type": "stream",
     "text": [
      "[[0. 0. 0.]\n",
      " [0. 0. 0.]\n",
      " [0. 0. 0.]]\n"
     ]
    }
   ],
   "source": [
    "array = np.zeros(9)\n",
    "array3d = array.reshape((3,3))\n",
    "print(array3d)"
   ]
  },
  {
   "cell_type": "code",
   "execution_count": 16,
   "id": "12262e0f-6a57-4612-b4b7-0cf5a8ed64b3",
   "metadata": {},
   "outputs": [
    {
     "name": "stdout",
     "output_type": "stream",
     "text": [
      "[0. 0. 0. 0. 0. 0. 0. 0. 0.]\n"
     ]
    }
   ],
   "source": [
    "array = np.zeros(9)\n",
    "array3d = array.reshape((3,3))\n",
    "arraylin = array3d.ravel()\n",
    "print(arraylin)"
   ]
  },
  {
   "cell_type": "markdown",
   "id": "ca36d3cc-829b-4f2d-a0ba-c711e10e363e",
   "metadata": {},
   "source": [
    "#### Numpy array indexing\n",
    "\n",
    "Numpy array indexing is identical to Python's indexing scheme"
   ]
  },
  {
   "cell_type": "markdown",
   "id": "5aff76db-5205-4e5c-b138-cb87d10dbeb1",
   "metadata": {},
   "source": [
    "### Slicing of Numpy array\n",
    "1. Slicing items beginning with a specified index\n",
    "2. Slicing items until a specific index\n",
    "3. Slicing items in a range\n",
    "4. Extracting specific rows and columns using Slicing"
   ]
  },
  {
   "cell_type": "markdown",
   "id": "98bd0dd8-92b7-443a-a99e-9a9600ff7838",
   "metadata": {},
   "source": [
    "### NumPy Array Attributes\n",
    "\n",
    "- shape() == returns a tuple consisting of array dimension\n",
    "- ndim() == returns the number of array dimensions\n",
    "- itemsize() == Returns the length of each element of array in bytes"
   ]
  },
  {
   "cell_type": "code",
   "execution_count": 21,
   "id": "fea0690c-e342-4b8b-92e7-4f947c5c5692",
   "metadata": {},
   "outputs": [
    {
     "name": "stdout",
     "output_type": "stream",
     "text": [
      "(3, 3)\n",
      "2\n",
      "8\n"
     ]
    }
   ],
   "source": [
    "array = np.zeros((3,3))\n",
    "print(array.shape)\n",
    "print(array.ndim)\n",
    "print(a.itemsize)"
   ]
  },
  {
   "cell_type": "code",
   "execution_count": 22,
   "id": "0a82fd2f-5f09-4119-9a2e-aaf4785bd9ac",
   "metadata": {},
   "outputs": [
    {
     "name": "stdout",
     "output_type": "stream",
     "text": [
      "C-order reshape: \n",
      "[[0 1 2]\n",
      " [3 4 5]]\n",
      "F-order reshape: \n",
      "[[0 2 4]\n",
      " [1 3 5]]\n",
      "A-order reshape: \n",
      "[[0 2 4]\n",
      " [1 3 5]]\n"
     ]
    }
   ],
   "source": [
    "import numpy as np\n",
    "\n",
    "#order='C' (C-style, row-major): \n",
    "#This is the default behavior. Elements are filled into the new array row by row. The last index changes fastest.\n",
    "arr_c = np.arange(6).reshape((2, 3), order='C')\n",
    "print(f\"C-order reshape: \\n{arr_c}\")\n",
    "\n",
    "#order='F' (Fortran-style, column-major): \n",
    "#Elements are filled into the new array column by column. The first index changes fastest.\n",
    "arr_f = np.arange(6).reshape((2, 3), order='F')\n",
    "print(f\"F-order reshape: \\n{arr_f}\")\n",
    "\n",
    "#order='A' (Any-order): This option attempts to use the original array's memory layout if it's already C-contiguous or F-contiguous \n",
    "#and compatible with the new shape. If not, it defaults to 'C' order.\n",
    "arr_a = np.arange(6).reshape((2, 3), order='A')\n",
    "print(f\"A-order reshape: \\n{arr_f}\")"
   ]
  },
  {
   "cell_type": "markdown",
   "id": "bd0ba780-6c75-405b-a6dc-783e5627b267",
   "metadata": {},
   "source": [
    "### Importing data from file\n",
    "NumPy provides the option of importing data from files directly into ndarray using the loadtxt function\n",
    "The savetxt function can be used to write data from an array into a text file"
   ]
  },
  {
   "cell_type": "code",
   "execution_count": 24,
   "id": "1717d388-9583-4569-81b4-0591ae1ed85f",
   "metadata": {},
   "outputs": [
    {
     "ename": "FileNotFoundError",
     "evalue": "../input/data_file.txt not found.",
     "output_type": "error",
     "traceback": [
      "\u001b[0;31m---------------------------------------------------------------------------\u001b[0m",
      "\u001b[0;31mFileNotFoundError\u001b[0m                         Traceback (most recent call last)",
      "Cell \u001b[0;32mIn[24], line 3\u001b[0m\n\u001b[1;32m      1\u001b[0m \u001b[38;5;66;03m#import os\u001b[39;00m\n\u001b[1;32m      2\u001b[0m \u001b[38;5;66;03m#print(os.listdir('../input'))\u001b[39;00m\n\u001b[0;32m----> 3\u001b[0m arr_txt \u001b[38;5;241m=\u001b[39m \u001b[43mnp\u001b[49m\u001b[38;5;241;43m.\u001b[39;49m\u001b[43mloadtxt\u001b[49m\u001b[43m(\u001b[49m\u001b[38;5;124;43m'\u001b[39;49m\u001b[38;5;124;43m../input/data_file.txt\u001b[39;49m\u001b[38;5;124;43m'\u001b[39;49m\u001b[43m)\u001b[49m\n\u001b[1;32m      4\u001b[0m np\u001b[38;5;241m.\u001b[39msavetxt(\u001b[38;5;124m'\u001b[39m\u001b[38;5;124mnewfilex.txt\u001b[39m\u001b[38;5;124m'\u001b[39m, arr_txt)\n\u001b[1;32m      7\u001b[0m \u001b[38;5;66;03m# NumPy arrays can be dumped into CSV files using the savetxt function and the comma delimiter\u001b[39;00m\n\u001b[1;32m      8\u001b[0m \u001b[38;5;66;03m# The genfromtxt function can be used to read data from a CSV file into a NumPy array\u001b[39;00m\n",
      "File \u001b[0;32m/opt/miniconda3/envs/py311/lib/python3.11/site-packages/numpy/lib/npyio.py:1373\u001b[0m, in \u001b[0;36mloadtxt\u001b[0;34m(fname, dtype, comments, delimiter, converters, skiprows, usecols, unpack, ndmin, encoding, max_rows, quotechar, like)\u001b[0m\n\u001b[1;32m   1370\u001b[0m \u001b[38;5;28;01mif\u001b[39;00m \u001b[38;5;28misinstance\u001b[39m(delimiter, \u001b[38;5;28mbytes\u001b[39m):\n\u001b[1;32m   1371\u001b[0m     delimiter \u001b[38;5;241m=\u001b[39m delimiter\u001b[38;5;241m.\u001b[39mdecode(\u001b[38;5;124m'\u001b[39m\u001b[38;5;124mlatin1\u001b[39m\u001b[38;5;124m'\u001b[39m)\n\u001b[0;32m-> 1373\u001b[0m arr \u001b[38;5;241m=\u001b[39m \u001b[43m_read\u001b[49m\u001b[43m(\u001b[49m\u001b[43mfname\u001b[49m\u001b[43m,\u001b[49m\u001b[43m \u001b[49m\u001b[43mdtype\u001b[49m\u001b[38;5;241;43m=\u001b[39;49m\u001b[43mdtype\u001b[49m\u001b[43m,\u001b[49m\u001b[43m \u001b[49m\u001b[43mcomment\u001b[49m\u001b[38;5;241;43m=\u001b[39;49m\u001b[43mcomment\u001b[49m\u001b[43m,\u001b[49m\u001b[43m \u001b[49m\u001b[43mdelimiter\u001b[49m\u001b[38;5;241;43m=\u001b[39;49m\u001b[43mdelimiter\u001b[49m\u001b[43m,\u001b[49m\n\u001b[1;32m   1374\u001b[0m \u001b[43m            \u001b[49m\u001b[43mconverters\u001b[49m\u001b[38;5;241;43m=\u001b[39;49m\u001b[43mconverters\u001b[49m\u001b[43m,\u001b[49m\u001b[43m \u001b[49m\u001b[43mskiplines\u001b[49m\u001b[38;5;241;43m=\u001b[39;49m\u001b[43mskiprows\u001b[49m\u001b[43m,\u001b[49m\u001b[43m \u001b[49m\u001b[43musecols\u001b[49m\u001b[38;5;241;43m=\u001b[39;49m\u001b[43musecols\u001b[49m\u001b[43m,\u001b[49m\n\u001b[1;32m   1375\u001b[0m \u001b[43m            \u001b[49m\u001b[43munpack\u001b[49m\u001b[38;5;241;43m=\u001b[39;49m\u001b[43munpack\u001b[49m\u001b[43m,\u001b[49m\u001b[43m \u001b[49m\u001b[43mndmin\u001b[49m\u001b[38;5;241;43m=\u001b[39;49m\u001b[43mndmin\u001b[49m\u001b[43m,\u001b[49m\u001b[43m \u001b[49m\u001b[43mencoding\u001b[49m\u001b[38;5;241;43m=\u001b[39;49m\u001b[43mencoding\u001b[49m\u001b[43m,\u001b[49m\n\u001b[1;32m   1376\u001b[0m \u001b[43m            \u001b[49m\u001b[43mmax_rows\u001b[49m\u001b[38;5;241;43m=\u001b[39;49m\u001b[43mmax_rows\u001b[49m\u001b[43m,\u001b[49m\u001b[43m \u001b[49m\u001b[43mquote\u001b[49m\u001b[38;5;241;43m=\u001b[39;49m\u001b[43mquotechar\u001b[49m\u001b[43m)\u001b[49m\n\u001b[1;32m   1378\u001b[0m \u001b[38;5;28;01mreturn\u001b[39;00m arr\n",
      "File \u001b[0;32m/opt/miniconda3/envs/py311/lib/python3.11/site-packages/numpy/lib/npyio.py:992\u001b[0m, in \u001b[0;36m_read\u001b[0;34m(fname, delimiter, comment, quote, imaginary_unit, usecols, skiplines, max_rows, converters, ndmin, unpack, dtype, encoding)\u001b[0m\n\u001b[1;32m    990\u001b[0m     fname \u001b[38;5;241m=\u001b[39m os\u001b[38;5;241m.\u001b[39mfspath(fname)\n\u001b[1;32m    991\u001b[0m \u001b[38;5;28;01mif\u001b[39;00m \u001b[38;5;28misinstance\u001b[39m(fname, \u001b[38;5;28mstr\u001b[39m):\n\u001b[0;32m--> 992\u001b[0m     fh \u001b[38;5;241m=\u001b[39m \u001b[43mnp\u001b[49m\u001b[38;5;241;43m.\u001b[39;49m\u001b[43mlib\u001b[49m\u001b[38;5;241;43m.\u001b[39;49m\u001b[43m_datasource\u001b[49m\u001b[38;5;241;43m.\u001b[39;49m\u001b[43mopen\u001b[49m\u001b[43m(\u001b[49m\u001b[43mfname\u001b[49m\u001b[43m,\u001b[49m\u001b[43m \u001b[49m\u001b[38;5;124;43m'\u001b[39;49m\u001b[38;5;124;43mrt\u001b[39;49m\u001b[38;5;124;43m'\u001b[39;49m\u001b[43m,\u001b[49m\u001b[43m \u001b[49m\u001b[43mencoding\u001b[49m\u001b[38;5;241;43m=\u001b[39;49m\u001b[43mencoding\u001b[49m\u001b[43m)\u001b[49m\n\u001b[1;32m    993\u001b[0m     \u001b[38;5;28;01mif\u001b[39;00m encoding \u001b[38;5;129;01mis\u001b[39;00m \u001b[38;5;28;01mNone\u001b[39;00m:\n\u001b[1;32m    994\u001b[0m         encoding \u001b[38;5;241m=\u001b[39m \u001b[38;5;28mgetattr\u001b[39m(fh, \u001b[38;5;124m'\u001b[39m\u001b[38;5;124mencoding\u001b[39m\u001b[38;5;124m'\u001b[39m, \u001b[38;5;124m'\u001b[39m\u001b[38;5;124mlatin1\u001b[39m\u001b[38;5;124m'\u001b[39m)\n",
      "File \u001b[0;32m/opt/miniconda3/envs/py311/lib/python3.11/site-packages/numpy/lib/_datasource.py:193\u001b[0m, in \u001b[0;36mopen\u001b[0;34m(path, mode, destpath, encoding, newline)\u001b[0m\n\u001b[1;32m    156\u001b[0m \u001b[38;5;250m\u001b[39m\u001b[38;5;124;03m\"\"\"\u001b[39;00m\n\u001b[1;32m    157\u001b[0m \u001b[38;5;124;03mOpen `path` with `mode` and return the file object.\u001b[39;00m\n\u001b[1;32m    158\u001b[0m \n\u001b[0;32m   (...)\u001b[0m\n\u001b[1;32m    189\u001b[0m \n\u001b[1;32m    190\u001b[0m \u001b[38;5;124;03m\"\"\"\u001b[39;00m\n\u001b[1;32m    192\u001b[0m ds \u001b[38;5;241m=\u001b[39m DataSource(destpath)\n\u001b[0;32m--> 193\u001b[0m \u001b[38;5;28;01mreturn\u001b[39;00m \u001b[43mds\u001b[49m\u001b[38;5;241;43m.\u001b[39;49m\u001b[43mopen\u001b[49m\u001b[43m(\u001b[49m\u001b[43mpath\u001b[49m\u001b[43m,\u001b[49m\u001b[43m \u001b[49m\u001b[43mmode\u001b[49m\u001b[43m,\u001b[49m\u001b[43m \u001b[49m\u001b[43mencoding\u001b[49m\u001b[38;5;241;43m=\u001b[39;49m\u001b[43mencoding\u001b[49m\u001b[43m,\u001b[49m\u001b[43m \u001b[49m\u001b[43mnewline\u001b[49m\u001b[38;5;241;43m=\u001b[39;49m\u001b[43mnewline\u001b[49m\u001b[43m)\u001b[49m\n",
      "File \u001b[0;32m/opt/miniconda3/envs/py311/lib/python3.11/site-packages/numpy/lib/_datasource.py:533\u001b[0m, in \u001b[0;36mDataSource.open\u001b[0;34m(self, path, mode, encoding, newline)\u001b[0m\n\u001b[1;32m    530\u001b[0m     \u001b[38;5;28;01mreturn\u001b[39;00m _file_openers[ext](found, mode\u001b[38;5;241m=\u001b[39mmode,\n\u001b[1;32m    531\u001b[0m                               encoding\u001b[38;5;241m=\u001b[39mencoding, newline\u001b[38;5;241m=\u001b[39mnewline)\n\u001b[1;32m    532\u001b[0m \u001b[38;5;28;01melse\u001b[39;00m:\n\u001b[0;32m--> 533\u001b[0m     \u001b[38;5;28;01mraise\u001b[39;00m \u001b[38;5;167;01mFileNotFoundError\u001b[39;00m(\u001b[38;5;124mf\u001b[39m\u001b[38;5;124m\"\u001b[39m\u001b[38;5;132;01m{\u001b[39;00mpath\u001b[38;5;132;01m}\u001b[39;00m\u001b[38;5;124m not found.\u001b[39m\u001b[38;5;124m\"\u001b[39m)\n",
      "\u001b[0;31mFileNotFoundError\u001b[0m: ../input/data_file.txt not found."
     ]
    }
   ],
   "source": [
    "#import os\n",
    "#print(os.listdir('../input'))\n",
    "arr_txt = np.loadtxt('../input/data_file.txt')\n",
    "np.savetxt('newfilex.txt', arr_txt)\n",
    "\n",
    "\n",
    "# NumPy arrays can be dumped into CSV files using the savetxt function and the comma delimiter\n",
    "# The genfromtxt function can be used to read data from a CSV file into a NumPy array\n",
    "arr_csv = np.genfromtxt('../input/Hurricanes.csv', delimiter = ',')\n",
    "np.savetxt('newfilex.csv', arr_csv, delimiter = ',')"
   ]
  },
  {
   "cell_type": "markdown",
   "id": "3975ed42-d77e-42dd-ba18-0555831587c9",
   "metadata": {},
   "source": [
    "### random()\n",
    "\n",
    "Random values in a given shape."
   ]
  },
  {
   "cell_type": "markdown",
   "id": "0218716a-76d7-4f7d-95c1-538a1f5724be",
   "metadata": {},
   "source": [
    "\n",
    "* numpy.random.rand : Random values in a given shape.\n",
    "* numpy.random.randint(low, high=None, size=None, dtype=int) : Return random integers from low (inclusive) to high (exclusive).\n",
    "* numpy.random.randn : Return a sample (or samples) from the “standard normal” distribution.\n",
    "* random.random(size=None) : Return random floats in the half-open interval [0.0, 1.0). Alias for random_sample to ease forward-porting to the new random API."
   ]
  },
  {
   "cell_type": "code",
   "execution_count": 25,
   "id": "ae285740-777d-434a-a9ca-c1c2f3041c2f",
   "metadata": {},
   "outputs": [
    {
     "data": {
      "text/plain": [
       "array([0.04097544, 0.3578473 , 0.75469281])"
      ]
     },
     "execution_count": 25,
     "metadata": {},
     "output_type": "execute_result"
    }
   ],
   "source": [
    "np.random.rand(3)"
   ]
  },
  {
   "cell_type": "code",
   "execution_count": 26,
   "id": "0be6ac4b-143d-4d97-b814-53bc9ff118ac",
   "metadata": {},
   "outputs": [
    {
     "data": {
      "text/plain": [
       "array([[0.57601046, 0.95926437],\n",
       "       [0.7992081 , 0.03918249],\n",
       "       [0.79212163, 0.57903831]])"
      ]
     },
     "execution_count": 26,
     "metadata": {},
     "output_type": "execute_result"
    }
   ],
   "source": [
    "np.random.rand(3,2)"
   ]
  },
  {
   "cell_type": "code",
   "execution_count": 35,
   "id": "8b7ad694-48a8-4a6d-a69e-192353112790",
   "metadata": {},
   "outputs": [
    {
     "data": {
      "text/plain": [
       "array([0, 0, 1, 1, 1, 1, 1, 0, 0, 1])"
      ]
     },
     "execution_count": 35,
     "metadata": {},
     "output_type": "execute_result"
    }
   ],
   "source": [
    "np.random.randint(2, size=10)"
   ]
  },
  {
   "cell_type": "code",
   "execution_count": 36,
   "id": "15a34290-fad8-4ebe-baa8-922763ef4fe4",
   "metadata": {},
   "outputs": [
    {
     "data": {
      "text/plain": [
       "array([0.60371222, 0.46106994, 0.68673617, 0.23684868, 0.96434279,\n",
       "       0.8561344 , 0.95479584, 0.94760739, 0.1395383 , 0.40334199])"
      ]
     },
     "execution_count": 36,
     "metadata": {},
     "output_type": "execute_result"
    }
   ],
   "source": [
    "np.random.random(size=10)"
   ]
  },
  {
   "cell_type": "code",
   "execution_count": null,
   "id": "4c1d28dd-b1c9-48af-b83f-7b3a08e6ef4f",
   "metadata": {},
   "outputs": [],
   "source": []
  }
 ],
 "metadata": {
  "kernelspec": {
   "display_name": "py311",
   "language": "python",
   "name": "py311"
  },
  "language_info": {
   "codemirror_mode": {
    "name": "ipython",
    "version": 3
   },
   "file_extension": ".py",
   "mimetype": "text/x-python",
   "name": "python",
   "nbconvert_exporter": "python",
   "pygments_lexer": "ipython3",
   "version": "3.11.9"
  }
 },
 "nbformat": 4,
 "nbformat_minor": 5
}
