{
 "cells": [
  {
   "cell_type": "markdown",
   "id": "5d10c4ca-0ddb-4e25-9e50-e7ad87baf735",
   "metadata": {},
   "source": [
    "# Loops in Python\n",
    "\n",
    "Sometimes we want to repeat a set of statements in our program\n",
    "\n",
    "Loops make it easy for a programmer to tell the computer which set of instructions to repeat and how!\n",
    "\n",
    "\n",
    "## Types of Loops\n",
    "1. while loops\n",
    "2. for loops\n",
    "\n",
    "\n",
    "### While loops\n",
    "In while loops, the condition is checked first. If it evaluates to true, the body of the loop is executed otherwise not!\n",
    "\n",
    "If the loop is entered, the process of [condition check & execution] is continued until\n",
    "the condition becomes False.\n",
    "\n",
    "#### Syntax\n",
    "\n",
    "```python\n",
    "while (condition): # The block keeps executing until the condition is true #Body of the loop\n",
    "```"
   ]
  },
  {
   "cell_type": "markdown",
   "id": "5f7c8de3-2bfb-4794-9144-b1bae92997c9",
   "metadata": {},
   "source": [
    "#### Examples : Write a program to print 1 to 50 using a while loop."
   ]
  },
  {
   "cell_type": "code",
   "execution_count": 3,
   "id": "d73120c1-ef22-4fb4-b6af-45166f956e11",
   "metadata": {},
   "outputs": [
    {
     "name": "stdout",
     "output_type": "stream",
     "text": [
      "0\n",
      "1\n",
      "2\n",
      "3\n",
      "4\n"
     ]
    }
   ],
   "source": [
    "i = 0\n",
    "while i<5:\n",
    "    print(i)\n",
    "    i = i+1"
   ]
  },
  {
   "cell_type": "markdown",
   "id": "28b5e3a8-84fe-4c96-a1d3-fb0c886f936e",
   "metadata": {},
   "source": [
    "### For loops\n",
    "for loop is used to iterate through a sequence like list, tuple, or string [iterables]\n",
    "\n",
    "\n",
    "#### Range() function in python\n",
    "The range() function in python is used to generate a sequence of number. We can also specify the start, stop and step-size as follows:\n",
    "\n",
    "```python\n",
    "range(start, stop, step_size) # step_size is usually not used with range()\n",
    "```"
   ]
  },
  {
   "cell_type": "code",
   "execution_count": 4,
   "id": "7f44b704-0103-4301-a026-ebeaaa51bddd",
   "metadata": {},
   "outputs": [
    {
     "name": "stdout",
     "output_type": "stream",
     "text": [
      "0\n",
      "1\n",
      "2\n",
      "3\n",
      "4\n"
     ]
    }
   ],
   "source": [
    "for i in range(0,5):\n",
    "    print(i)"
   ]
  },
  {
   "cell_type": "markdown",
   "id": "ad6ef5ff-dae8-4eac-972a-a201d400f72a",
   "metadata": {},
   "source": [
    "### 'break' statement\n",
    "‘break’ is used to come out of the loop when encountered. It instructs the program to exit the loop now."
   ]
  },
  {
   "cell_type": "code",
   "execution_count": 8,
   "id": "00730fd8-5086-4578-821a-daedd91ffd3f",
   "metadata": {},
   "outputs": [
    {
     "name": "stdout",
     "output_type": "stream",
     "text": [
      "0\n",
      "1\n",
      "2\n",
      "3\n"
     ]
    }
   ],
   "source": [
    "for i in range (0,80):\n",
    "    print(i) # this will print 0,1,2 and 3\n",
    "    if i==3:\n",
    "        break"
   ]
  },
  {
   "cell_type": "markdown",
   "id": "d111d4a7-b43d-47e1-a380-80c7b133bea3",
   "metadata": {},
   "source": [
    "### 'continue' statement \n",
    "‘continue’ is used to stop the current iteration of the loop and continue with the next one. It instructs the Program to “skip this iteration”."
   ]
  },
  {
   "cell_type": "code",
   "execution_count": 16,
   "id": "609355d9-403b-4300-96fe-355b80ebc381",
   "metadata": {},
   "outputs": [
    {
     "name": "stdout",
     "output_type": "stream",
     "text": [
      "0\t printed\n",
      "1\t printed\n",
      "3\t printed\n"
     ]
    }
   ],
   "source": [
    "for i in range(4):\n",
    "    if i == 2: # if i is 2, the iteration is skipped\n",
    "        continue\n",
    "    print(str(i)+\"\\t printed\")"
   ]
  },
  {
   "cell_type": "markdown",
   "id": "86a545cb-e04b-4659-a69b-749c5652705d",
   "metadata": {},
   "source": [
    "### 'pass' statement\n",
    "pass is a null statement in python. It instructs to “do nothing”."
   ]
  },
  {
   "cell_type": "code",
   "execution_count": 27,
   "id": "78b48aa8-8283-43fc-8295-59cdd51d9ead",
   "metadata": {},
   "outputs": [
    {
     "name": "stdout",
     "output_type": "stream",
     "text": [
      "1\t1\t printed\n",
      "2\t4\t printed\n",
      "3\t9\t printed\n",
      "4\t16\t printed\n",
      "5\t25\t printed\n",
      "6\t36\t printed\n",
      "7\t0\t printed\n",
      "8\t64\t printed\n",
      "9\t81\t printed\n"
     ]
    }
   ],
   "source": [
    "for i in range(1,10):\n",
    "    a = 0\n",
    "    if i == 7:\n",
    "        pass\n",
    "    else:\n",
    "        a = i*i\n",
    "    print(str(i)+\"\\t\"+str(a)+\"\\t printed\")"
   ]
  },
  {
   "cell_type": "code",
   "execution_count": 31,
   "id": "0e58e2d9-da51-43a4-bccc-145a50fd3b55",
   "metadata": {},
   "outputs": [
    {
     "name": "stdout",
     "output_type": "stream",
     "text": [
      "16\n"
     ]
    }
   ],
   "source": [
    "n = 4\n",
    "i = 1\n",
    "while(i<=n):\n",
    "    f = i*i\n",
    "    i = i+1\n",
    "\n",
    "print(f)"
   ]
  },
  {
   "cell_type": "code",
   "execution_count": null,
   "id": "0312f3df-dec6-4a1d-b02a-d028c83e35cc",
   "metadata": {},
   "outputs": [],
   "source": []
  }
 ],
 "metadata": {
  "kernelspec": {
   "display_name": "py311",
   "language": "python",
   "name": "py311"
  },
  "language_info": {
   "codemirror_mode": {
    "name": "ipython",
    "version": 3
   },
   "file_extension": ".py",
   "mimetype": "text/x-python",
   "name": "python",
   "nbconvert_exporter": "python",
   "pygments_lexer": "ipython3",
   "version": "3.11.9"
  }
 },
 "nbformat": 4,
 "nbformat_minor": 5
}
